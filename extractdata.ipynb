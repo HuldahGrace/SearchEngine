{
 "cells": [
  {
   "cell_type": "code",
   "execution_count": 3,
   "id": "3c64e9dc",
   "metadata": {},
   "outputs": [],
   "source": [
    "import sqlite3\n",
    "import pandas as pd\n",
    "import re\n",
    "from tqdm import tqdm\n",
    "import warnings\n",
    "warnings.filterwarnings('ignore')"
   ]
  },
  {
   "cell_type": "code",
   "execution_count": 47,
   "id": "fce54ff7",
   "metadata": {},
   "outputs": [
    {
     "name": "stdout",
     "output_type": "stream",
     "text": [
      "[('zipfiles',)]\n"
     ]
    }
   ],
   "source": [
    "conn = sqlite3.connect('eng_subtitles_database.db')\n",
    "cursor = conn.cursor()\n",
    "cursor.execute(\"SELECT name FROM sqlite_master WHERE type='table'\")\n",
    "print(cursor.fetchall())"
   ]
  },
  {
   "cell_type": "code",
   "execution_count": 49,
   "id": "91662a48",
   "metadata": {},
   "outputs": [
    {
     "data": {
      "text/html": [
       "<div>\n",
       "<style scoped>\n",
       "    .dataframe tbody tr th:only-of-type {\n",
       "        vertical-align: middle;\n",
       "    }\n",
       "\n",
       "    .dataframe tbody tr th {\n",
       "        vertical-align: top;\n",
       "    }\n",
       "\n",
       "    .dataframe thead th {\n",
       "        text-align: right;\n",
       "    }\n",
       "</style>\n",
       "<table border=\"1\" class=\"dataframe\">\n",
       "  <thead>\n",
       "    <tr style=\"text-align: right;\">\n",
       "      <th></th>\n",
       "      <th>num</th>\n",
       "      <th>name</th>\n",
       "      <th>content</th>\n",
       "    </tr>\n",
       "  </thead>\n",
       "  <tbody>\n",
       "    <tr>\n",
       "      <th>0</th>\n",
       "      <td>9180533</td>\n",
       "      <td>the.message.(1976).eng.1cd</td>\n",
       "      <td>b'PK\\x03\\x04\\x14\\x00\\x00\\x00\\x08\\x00\\x1c\\xa9\\x...</td>\n",
       "    </tr>\n",
       "    <tr>\n",
       "      <th>1</th>\n",
       "      <td>9180583</td>\n",
       "      <td>here.comes.the.grump.s01.e09.joltin.jack.in.bo...</td>\n",
       "      <td>b'PK\\x03\\x04\\x14\\x00\\x00\\x00\\x08\\x00\\x17\\xb9\\x...</td>\n",
       "    </tr>\n",
       "    <tr>\n",
       "      <th>2</th>\n",
       "      <td>9180592</td>\n",
       "      <td>yumis.cells.s02.e13.episode.2.13.(2022).eng.1cd</td>\n",
       "      <td>b'PK\\x03\\x04\\x14\\x00\\x00\\x00\\x08\\x00L\\xb9\\x99V...</td>\n",
       "    </tr>\n",
       "    <tr>\n",
       "      <th>3</th>\n",
       "      <td>9180594</td>\n",
       "      <td>yumis.cells.s02.e14.episode.2.14.(2022).eng.1cd</td>\n",
       "      <td>b'PK\\x03\\x04\\x14\\x00\\x00\\x00\\x08\\x00U\\xa9\\x99V...</td>\n",
       "    </tr>\n",
       "    <tr>\n",
       "      <th>4</th>\n",
       "      <td>9180600</td>\n",
       "      <td>broker.(2022).eng.1cd</td>\n",
       "      <td>b'PK\\x03\\x04\\x14\\x00\\x00\\x00\\x08\\x001\\xa9\\x99V...</td>\n",
       "    </tr>\n",
       "  </tbody>\n",
       "</table>\n",
       "</div>"
      ],
      "text/plain": [
       "       num                                               name  \\\n",
       "0  9180533                         the.message.(1976).eng.1cd   \n",
       "1  9180583  here.comes.the.grump.s01.e09.joltin.jack.in.bo...   \n",
       "2  9180592    yumis.cells.s02.e13.episode.2.13.(2022).eng.1cd   \n",
       "3  9180594    yumis.cells.s02.e14.episode.2.14.(2022).eng.1cd   \n",
       "4  9180600                              broker.(2022).eng.1cd   \n",
       "\n",
       "                                             content  \n",
       "0  b'PK\\x03\\x04\\x14\\x00\\x00\\x00\\x08\\x00\\x1c\\xa9\\x...  \n",
       "1  b'PK\\x03\\x04\\x14\\x00\\x00\\x00\\x08\\x00\\x17\\xb9\\x...  \n",
       "2  b'PK\\x03\\x04\\x14\\x00\\x00\\x00\\x08\\x00L\\xb9\\x99V...  \n",
       "3  b'PK\\x03\\x04\\x14\\x00\\x00\\x00\\x08\\x00U\\xa9\\x99V...  \n",
       "4  b'PK\\x03\\x04\\x14\\x00\\x00\\x00\\x08\\x001\\xa9\\x99V...  "
      ]
     },
     "execution_count": 49,
     "metadata": {},
     "output_type": "execute_result"
    }
   ],
   "source": [
    "df = pd.read_sql_query(\"\"\"SELECT * FROM zipfiles\"\"\", conn)\n",
    "df.head()"
   ]
  },
  {
   "cell_type": "code",
   "execution_count": 48,
   "id": "887420d0",
   "metadata": {},
   "outputs": [],
   "source": [
    "import zipfile\n",
    "import io\n",
    "\n",
    "count = 0\n",
    "\n",
    "def decode_method(binary_data):\n",
    "    global count\n",
    "    # Decompress the binary data using the zipfile module\n",
    "    # print(count, end=\" \")\n",
    "    count += 1\n",
    "    with io.BytesIO(binary_data) as f:\n",
    "        with zipfile.ZipFile(f, 'r') as zip_file:\n",
    "            # Assuming there's only one file in the ZIP archive\n",
    "            subtitle_content = zip_file.read(zip_file.namelist()[0])\n",
    "    \n",
    "    # Now 'subtitle_content' should contain the extracted subtitle content\n",
    "    return subtitle_content.decode('latin-1')  # Assuming the content is UTF-8 encoded text"
   ]
  },
  {
   "cell_type": "code",
   "execution_count": 50,
   "id": "83742b13",
   "metadata": {},
   "outputs": [
    {
     "data": {
      "text/html": [
       "<div>\n",
       "<style scoped>\n",
       "    .dataframe tbody tr th:only-of-type {\n",
       "        vertical-align: middle;\n",
       "    }\n",
       "\n",
       "    .dataframe tbody tr th {\n",
       "        vertical-align: top;\n",
       "    }\n",
       "\n",
       "    .dataframe thead th {\n",
       "        text-align: right;\n",
       "    }\n",
       "</style>\n",
       "<table border=\"1\" class=\"dataframe\">\n",
       "  <thead>\n",
       "    <tr style=\"text-align: right;\">\n",
       "      <th></th>\n",
       "      <th>num</th>\n",
       "      <th>name</th>\n",
       "      <th>content</th>\n",
       "    </tr>\n",
       "  </thead>\n",
       "  <tbody>\n",
       "    <tr>\n",
       "      <th>71981</th>\n",
       "      <td>9477200</td>\n",
       "      <td>phil.of.the.future.s01.e01.your.cheatin.heart....</td>\n",
       "      <td>b'PK\\x03\\x04\\x14\\x00\\x00\\x00\\x08\\x00h_\\x9aVY\\x...</td>\n",
       "    </tr>\n",
       "    <tr>\n",
       "      <th>5625</th>\n",
       "      <td>9205347</td>\n",
       "      <td>its.always.sunny.in.philadelphia.s05.e05.the.w...</td>\n",
       "      <td>b'PK\\x03\\x04\\x14\\x00\\x00\\x00\\x08\\x00\\xb9\\x8d\\x...</td>\n",
       "    </tr>\n",
       "    <tr>\n",
       "      <th>11321</th>\n",
       "      <td>9228451</td>\n",
       "      <td>ncis.s07.e18.jurisdiction.(2010).eng.1cd</td>\n",
       "      <td>b'PK\\x03\\x04\\x14\\x00\\x00\\x00\\x08\\x00\\xa4\\x94\\x...</td>\n",
       "    </tr>\n",
       "    <tr>\n",
       "      <th>49223</th>\n",
       "      <td>9388219</td>\n",
       "      <td>24.s07.e20.day.7.300.a.m.400.a.m.(2009).eng.1cd</td>\n",
       "      <td>b'PK\\x03\\x04\\x14\\x00\\x00\\x00\\x08\\x00\\x93\\x1d\\x...</td>\n",
       "    </tr>\n",
       "    <tr>\n",
       "      <th>53835</th>\n",
       "      <td>9407484</td>\n",
       "      <td>hot.in.cleveland.s04.e01.that.changes.everythi...</td>\n",
       "      <td>b'PK\\x03\\x04\\x14\\x00\\x00\\x00\\x08\\x00\\\\,\\x9aV\\x...</td>\n",
       "    </tr>\n",
       "  </tbody>\n",
       "</table>\n",
       "</div>"
      ],
      "text/plain": [
       "           num                                               name  \\\n",
       "71981  9477200  phil.of.the.future.s01.e01.your.cheatin.heart....   \n",
       "5625   9205347  its.always.sunny.in.philadelphia.s05.e05.the.w...   \n",
       "11321  9228451           ncis.s07.e18.jurisdiction.(2010).eng.1cd   \n",
       "49223  9388219    24.s07.e20.day.7.300.a.m.400.a.m.(2009).eng.1cd   \n",
       "53835  9407484  hot.in.cleveland.s04.e01.that.changes.everythi...   \n",
       "\n",
       "                                                 content  \n",
       "71981  b'PK\\x03\\x04\\x14\\x00\\x00\\x00\\x08\\x00h_\\x9aVY\\x...  \n",
       "5625   b'PK\\x03\\x04\\x14\\x00\\x00\\x00\\x08\\x00\\xb9\\x8d\\x...  \n",
       "11321  b'PK\\x03\\x04\\x14\\x00\\x00\\x00\\x08\\x00\\xa4\\x94\\x...  \n",
       "49223  b'PK\\x03\\x04\\x14\\x00\\x00\\x00\\x08\\x00\\x93\\x1d\\x...  \n",
       "53835  b'PK\\x03\\x04\\x14\\x00\\x00\\x00\\x08\\x00\\\\,\\x9aV\\x...  "
      ]
     },
     "execution_count": 50,
     "metadata": {},
     "output_type": "execute_result"
    }
   ],
   "source": [
    "df1 = df.sample(frac=0.3, random_state=29)\n",
    "df1.head()"
   ]
  },
  {
   "cell_type": "code",
   "execution_count": 51,
   "id": "e1cf2b91",
   "metadata": {},
   "outputs": [],
   "source": [
    "df1['file_content'] = df1['content'].apply(decode_method)"
   ]
  },
  {
   "cell_type": "code",
   "execution_count": 52,
   "id": "b3fd0683",
   "metadata": {},
   "outputs": [
    {
     "data": {
      "text/html": [
       "<div>\n",
       "<style scoped>\n",
       "    .dataframe tbody tr th:only-of-type {\n",
       "        vertical-align: middle;\n",
       "    }\n",
       "\n",
       "    .dataframe tbody tr th {\n",
       "        vertical-align: top;\n",
       "    }\n",
       "\n",
       "    .dataframe thead th {\n",
       "        text-align: right;\n",
       "    }\n",
       "</style>\n",
       "<table border=\"1\" class=\"dataframe\">\n",
       "  <thead>\n",
       "    <tr style=\"text-align: right;\">\n",
       "      <th></th>\n",
       "      <th>num</th>\n",
       "      <th>name</th>\n",
       "      <th>content</th>\n",
       "      <th>file_content</th>\n",
       "    </tr>\n",
       "  </thead>\n",
       "  <tbody>\n",
       "    <tr>\n",
       "      <th>71981</th>\n",
       "      <td>9477200</td>\n",
       "      <td>phil.of.the.future.s01.e01.your.cheatin.heart....</td>\n",
       "      <td>b'PK\\x03\\x04\\x14\\x00\\x00\\x00\\x08\\x00h_\\x9aVY\\x...</td>\n",
       "      <td>1\\r\\n00:00:03,795 --&gt; 00:00:06,089\\r\\nMorning,...</td>\n",
       "    </tr>\n",
       "    <tr>\n",
       "      <th>5625</th>\n",
       "      <td>9205347</td>\n",
       "      <td>its.always.sunny.in.philadelphia.s05.e05.the.w...</td>\n",
       "      <td>b'PK\\x03\\x04\\x14\\x00\\x00\\x00\\x08\\x00\\xb9\\x8d\\x...</td>\n",
       "      <td>ï»¿1\\r\\n00:00:02,502 --&gt; 00:00:04,436\\r\\n&lt;i&gt;I ...</td>\n",
       "    </tr>\n",
       "    <tr>\n",
       "      <th>11321</th>\n",
       "      <td>9228451</td>\n",
       "      <td>ncis.s07.e18.jurisdiction.(2010).eng.1cd</td>\n",
       "      <td>b'PK\\x03\\x04\\x14\\x00\\x00\\x00\\x08\\x00\\xa4\\x94\\x...</td>\n",
       "      <td>ï»¿1\\r\\n00:00:04,471 --&gt; 00:00:07,650\\r\\n(serg...</td>\n",
       "    </tr>\n",
       "    <tr>\n",
       "      <th>49223</th>\n",
       "      <td>9388219</td>\n",
       "      <td>24.s07.e20.day.7.300.a.m.400.a.m.(2009).eng.1cd</td>\n",
       "      <td>b'PK\\x03\\x04\\x14\\x00\\x00\\x00\\x08\\x00\\x93\\x1d\\x...</td>\n",
       "      <td>ï»¿1\\r\\n00:00:11,628 --&gt; 00:00:13,562\\r\\n&lt;i&gt;[J...</td>\n",
       "    </tr>\n",
       "    <tr>\n",
       "      <th>53835</th>\n",
       "      <td>9407484</td>\n",
       "      <td>hot.in.cleveland.s04.e01.that.changes.everythi...</td>\n",
       "      <td>b'PK\\x03\\x04\\x14\\x00\\x00\\x00\\x08\\x00\\\\,\\x9aV\\x...</td>\n",
       "      <td>ï»¿1\\r\\n00:00:02,135 --&gt; 00:00:03,413\\r\\n- Las...</td>\n",
       "    </tr>\n",
       "  </tbody>\n",
       "</table>\n",
       "</div>"
      ],
      "text/plain": [
       "           num                                               name  \\\n",
       "71981  9477200  phil.of.the.future.s01.e01.your.cheatin.heart....   \n",
       "5625   9205347  its.always.sunny.in.philadelphia.s05.e05.the.w...   \n",
       "11321  9228451           ncis.s07.e18.jurisdiction.(2010).eng.1cd   \n",
       "49223  9388219    24.s07.e20.day.7.300.a.m.400.a.m.(2009).eng.1cd   \n",
       "53835  9407484  hot.in.cleveland.s04.e01.that.changes.everythi...   \n",
       "\n",
       "                                                 content  \\\n",
       "71981  b'PK\\x03\\x04\\x14\\x00\\x00\\x00\\x08\\x00h_\\x9aVY\\x...   \n",
       "5625   b'PK\\x03\\x04\\x14\\x00\\x00\\x00\\x08\\x00\\xb9\\x8d\\x...   \n",
       "11321  b'PK\\x03\\x04\\x14\\x00\\x00\\x00\\x08\\x00\\xa4\\x94\\x...   \n",
       "49223  b'PK\\x03\\x04\\x14\\x00\\x00\\x00\\x08\\x00\\x93\\x1d\\x...   \n",
       "53835  b'PK\\x03\\x04\\x14\\x00\\x00\\x00\\x08\\x00\\\\,\\x9aV\\x...   \n",
       "\n",
       "                                            file_content  \n",
       "71981  1\\r\\n00:00:03,795 --> 00:00:06,089\\r\\nMorning,...  \n",
       "5625   ï»¿1\\r\\n00:00:02,502 --> 00:00:04,436\\r\\n<i>I ...  \n",
       "11321  ï»¿1\\r\\n00:00:04,471 --> 00:00:07,650\\r\\n(serg...  \n",
       "49223  ï»¿1\\r\\n00:00:11,628 --> 00:00:13,562\\r\\n<i>[J...  \n",
       "53835  ï»¿1\\r\\n00:00:02,135 --> 00:00:03,413\\r\\n- Las...  "
      ]
     },
     "execution_count": 52,
     "metadata": {},
     "output_type": "execute_result"
    }
   ],
   "source": [
    "df1.head()"
   ]
  },
  {
   "cell_type": "code",
   "execution_count": 53,
   "id": "b1ff763b",
   "metadata": {},
   "outputs": [
    {
     "data": {
      "text/plain": [
       "(24749, 4)"
      ]
     },
     "execution_count": 53,
     "metadata": {},
     "output_type": "execute_result"
    }
   ],
   "source": [
    "df1.shape"
   ]
  },
  {
   "cell_type": "code",
   "execution_count": 54,
   "id": "5dcbaf00",
   "metadata": {},
   "outputs": [
    {
     "name": "stdout",
     "output_type": "stream",
     "text": [
      "<class 'pandas.core.frame.DataFrame'>\n",
      "Index: 24749 entries, 71981 to 52457\n",
      "Data columns (total 4 columns):\n",
      " #   Column        Non-Null Count  Dtype \n",
      "---  ------        --------------  ----- \n",
      " 0   num           24749 non-null  int64 \n",
      " 1   name          24749 non-null  object\n",
      " 2   content       24749 non-null  object\n",
      " 3   file_content  24749 non-null  object\n",
      "dtypes: int64(1), object(3)\n",
      "memory usage: 966.8+ KB\n"
     ]
    }
   ],
   "source": [
    "df1.info()"
   ]
  },
  {
   "cell_type": "code",
   "execution_count": 55,
   "id": "731bb89b",
   "metadata": {
    "scrolled": true
   },
   "outputs": [
    {
     "data": {
      "text/plain": [
       "'1\\r\\n00:00:03,795 --> 00:00:06,089\\r\\nMorning, honey.\\r\\nGreat day today, honey.\\r\\n\\r\\n2\\r\\n00:00:06,172 --> 00:00:07,132\\r\\nIsn\\'t it, honey?\\r\\n\\r\\n3\\r\\n00:00:07,215 --> 00:00:09,509\\r\\nYes. It\\'s very nice.\\r\\n\\r\\n4\\r\\n00:00:09,592 --> 00:00:13,179\\r\\nYou know, sugar, Pim\\'s been\\r\\nawfully well behaved lately.\\r\\n\\r\\n5\\r\\n00:00:13,263 --> 00:00:15,932\\r\\nI think we should excuse her\\r\\nfrom her chores this week.\\r\\n\\r\\n6\\r\\n00:00:16,016 --> 00:00:18,059\\r\\nReally? Well, i--\\r\\n\\r\\n7\\r\\n00:00:18,143 --> 00:00:19,519\\r\\ngreat, great! In fact,\\r\\n\\r\\n8\\r\\n00:00:19,602 --> 00:00:21,354\\r\\nI think we should cancel\\r\\nher chores all month\\r\\n\\r\\n9\\r\\n00:00:21,438 --> 00:00:22,772\\r\\nand get her some presents.\\r\\n\\r\\n10\\r\\n00:00:22,856 --> 00:00:23,982\\r\\nClothes, video games--\\r\\n\\r\\n11\\r\\n00:00:24,065 --> 00:00:25,734\\r\\nI don\\'t know\\r\\nwhat the kids like today.\\r\\n\\r\\n12\\r\\n00:00:25,817 --> 00:00:27,819\\r\\nAdjustable bed\\r\\nwith a remote control.\\r\\n\\r\\n13\\r\\n00:00:27,902 --> 00:00:29,946\\r\\nWell, if you think\\r\\nthat\\'s best, Lloyd,\\r\\n\\r\\n14\\r\\n00:00:30,030 --> 00:00:31,156\\r\\nI guess we could.\\r\\n\\r\\n15\\r\\n00:00:31,239 --> 00:00:32,365\\r\\n[laughing]\\r\\n\\r\\n16\\r\\n00:00:33,825 --> 00:00:34,826\\r\\nAha!\\r\\n\\r\\n17\\r\\n00:00:38,329 --> 00:00:39,456\\r\\nOh!\\r\\n\\r\\n18\\r\\n00:00:41,332 --> 00:00:44,002\\r\\nUh, hey, mom.\\r\\nWhat\\'s up?\\r\\n\\r\\n19\\r\\n00:00:44,085 --> 00:00:45,587\\r\\nPim, I have warned you\\r\\n\\r\\n20\\r\\n00:00:45,670 --> 00:00:46,963\\r\\nabout using\\r\\nyour instamorph\\r\\n\\r\\n21\\r\\n00:00:47,047 --> 00:00:48,381\\r\\nto fool people.\\r\\nObviously,\\r\\n\\r\\n22\\r\\n00:00:48,465 --> 00:00:49,883\\r\\nthose warnings haven\\'t\\r\\nhad an effect.\\r\\n\\r\\n23\\r\\n00:00:49,966 --> 00:00:51,634\\r\\nUntil now.\\r\\n\\r\\n24\\r\\n00:00:51,718 --> 00:00:54,137\\r\\nBut this warning\\r\\nfeels like a keeper.\\r\\n\\r\\n25\\r\\n00:00:54,220 --> 00:00:56,139\\r\\nYep. Lesson learned.\\r\\n\\r\\n26\\r\\n00:00:56,222 --> 00:00:58,433\\r\\nJust to be on the safe side,\\r\\ngive me 50 push-ups.\\r\\n\\r\\n27\\r\\n00:00:58,516 --> 00:00:59,559\\r\\nExcuse me?\\r\\n\\r\\n28\\r\\n00:00:59,642 --> 00:01:01,394\\r\\nYou heard me! I said\\r\\ndrop and give me 50!\\r\\n\\r\\n29\\r\\n00:01:01,478 --> 00:01:02,437\\r\\nNow!\\r\\n\\r\\n30\\r\\n00:01:02,520 --> 00:01:04,814\\r\\n1, 2!\\r\\n\\r\\n31\\r\\n00:01:04,898 --> 00:01:07,067\\r\\n[both] 1, 2!\\r\\n\\r\\n32\\r\\n00:01:07,150 --> 00:01:10,362\\r\\n1, 2...\\r\\n\\r\\n33\\r\\n00:01:10,445 --> 00:01:12,364\\r\\n1, 2...\\r\\n\\r\\n34\\r\\n00:01:12,447 --> 00:01:14,532\\r\\n1, 2...\\r\\n\\r\\n35\\r\\n00:01:14,616 --> 00:01:15,825\\r\\nI\\'m gonna miss\\r\\nthese moments.\\r\\n\\r\\n36\\r\\n00:01:18,411 --> 00:01:19,496\\r\\n[groans]\\r\\n\\r\\n37\\r\\n00:01:19,579 --> 00:01:21,956\\r\\n<i>â\\x99ª Meet a boy named Phil â\\x99ª</i>\\r\\n\\r\\n38\\r\\n00:01:22,040 --> 00:01:23,208\\r\\n<i>â\\x99ª And his family â\\x99ª</i>\\r\\n\\r\\n39\\r\\n00:01:23,291 --> 00:01:25,835\\r\\n<i>â\\x99ª On vacation from the 22nd century â\\x99ª</i>\\r\\n\\r\\n40\\r\\n00:01:25,919 --> 00:01:28,046\\r\\n<i>â\\x99ª Got a rented time machine</i>\\r\\n<i>And they\\'re on their way â\\x99ª</i>\\r\\n\\r\\n41\\r\\n00:01:28,129 --> 00:01:31,383\\r\\n<i>â\\x99ª To a time way, way, way</i>\\r\\n<i>Back in the day â\\x99ª</i>\\r\\n\\r\\n42\\r\\n00:01:31,466 --> 00:01:33,009\\r\\n<i>-â\\x99ª So now it\\'s Phil â\\x99ª</i>\\r\\n-â\\x99ª Phil â\\x99ª\\r\\n\\r\\n43\\r\\n00:01:33,093 --> 00:01:34,636\\r\\n<i>â\\x99ª Phil of the future â\\x99ª</i>\\r\\n\\r\\n44\\r\\n00:01:34,719 --> 00:01:36,846\\r\\n<i>â\\x99ª Keeping it together</i>\\r\\n<i>Just as best as he can â\\x99ª</i>\\r\\n\\r\\n45\\r\\n00:01:36,930 --> 00:01:37,931\\r\\n<i>â\\x99ª Phil â\\x99ª</i>\\r\\n\\r\\n46\\r\\n00:01:38,014 --> 00:01:39,849\\r\\n<i>-â\\x99ª Phil â\\x99ª</i>\\r\\n-â\\x99ª Phil of the future â\\x99ª\\r\\n\\r\\n47\\r\\n00:01:39,933 --> 00:01:41,768\\r\\n<i>â\\x99ª He\\'s a 22nd century man â\\x99ª</i>\\r\\n\\r\\n48\\r\\n00:01:41,851 --> 00:01:43,019\\r\\n<i>â\\x99ª 22nd century man â\\x99ª</i>\\r\\n\\r\\n49\\r\\n00:01:43,103 --> 00:01:45,522\\r\\n<i>â\\x99ª On a holiday through history â\\x99ª</i>\\r\\n\\r\\n50\\r\\n00:01:45,605 --> 00:01:48,024\\r\\n<i>â\\x99ª But the final destination</i>\\r\\n<i>Was a mystery â\\x99ª</i>\\r\\n\\r\\n51\\r\\n00:01:48,108 --> 00:01:50,985\\r\\n<i>â\\x99ª But something</i>\\r\\n<i>On the time machine had blown â\\x99ª</i>\\r\\n\\r\\n52\\r\\n00:01:51,069 --> 00:01:53,446\\r\\n<i>â\\x99ª So they ended up</i>\\r\\n<i>Right here in our time zone â\\x99ª</i>\\r\\n\\r\\n53\\r\\n00:01:53,530 --> 00:01:55,323\\r\\n<i>-â\\x99ª So now he\\'s Phil â\\x99ª</i>\\r\\n-â\\x99ª Phil â\\x99ª\\r\\n\\r\\n54\\r\\n00:01:55,407 --> 00:01:56,908\\r\\n<i>â\\x99ª Phil of the future â\\x99ª</i>\\r\\n\\r\\n55\\r\\n00:01:56,991 --> 00:01:59,577\\r\\n<i>â\\x99ª Never knew in history</i>\\r\\n<i>Just where he would land â\\x99ª</i>\\r\\n\\r\\n56\\r\\n00:01:59,661 --> 00:02:01,079\\r\\n<i>-â\\x99ª Phil â\\x99ª</i>\\r\\n-â\\x99ª Phil â\\x99ª\\r\\n\\r\\n57\\r\\n00:02:01,162 --> 00:02:02,330\\r\\n<i>â\\x99ª Phil of the future â\\x99ª</i>\\r\\n\\r\\n58\\r\\n00:02:02,414 --> 00:02:04,499\\r\\n<i>â\\x99ª He\\'s a 22nd century man â\\x99ª</i>\\r\\n\\r\\n59\\r\\n00:02:04,582 --> 00:02:05,500\\r\\n<i>â\\x99ª Phil â\\x99ª</i>\\r\\n\\r\\n60\\r\\n00:02:05,583 --> 00:02:06,418\\r\\n<i>â\\x99ª Phil of the future â\\x99ª</i>\\r\\n\\r\\n61\\r\\n00:02:06,501 --> 00:02:09,504\\r\\n<i>â\\x99ª He\\'s a 22nd century man â\\x99ª</i>\\r\\n\\r\\n62\\r\\n00:02:13,049 --> 00:02:15,260\\r\\n[Keely, southern accent] How can you sit\\r\\nby while the bank takes our farm?\\r\\n\\r\\n63\\r\\n00:02:15,343 --> 00:02:18,096\\r\\nWe both been\\r\\ndone been born here.\\r\\n\\r\\n64\\r\\n00:02:18,138 --> 00:02:20,098\\r\\nWhat can we do?\\r\\n\\r\\n65\\r\\n00:02:20,181 --> 00:02:23,476\\r\\nThe drought killed our crops,\\r\\nand our cow\\'s hair fell out.\\r\\n\\r\\n66\\r\\n00:02:23,560 --> 00:02:25,979\\r\\nWhat can we do?\\r\\n\\r\\n67\\r\\n00:02:26,062 --> 00:02:27,355\\r\\nWe can fight.\\r\\n\\r\\n68\\r\\n00:02:27,439 --> 00:02:29,399\\r\\nWe can save this here farm.\\r\\n\\r\\n69\\r\\n00:02:29,482 --> 00:02:32,360\\r\\nOr we can die trying.\\r\\n\\r\\n70\\r\\n00:02:32,444 --> 00:02:35,196\\r\\nAnd... scene.\\r\\n\\r\\n71\\r\\n00:02:35,280 --> 00:02:40,744\\r\\nKeely, you\\'re holding back.\\r\\nI need more emotion.\\r\\n\\r\\n72\\r\\n00:02:40,827 --> 00:02:42,829\\r\\nThe bank is taking away\\r\\nyour farm.\\r\\n\\r\\n73\\r\\n00:02:42,912 --> 00:02:45,373\\r\\nThey\\'re snatching it.\\r\\nSnatching it!\\r\\n\\r\\n74\\r\\n00:02:45,457 --> 00:02:47,751\\r\\nAnd Phil...\\r\\n\\r\\n75\\r\\n00:02:47,834 --> 00:02:49,669\\r\\nYou just sat there\\r\\nthe whole time.\\r\\n\\r\\n76\\r\\n00:02:49,753 --> 00:02:51,921\\r\\nUse the whole stage.\\r\\n\\r\\n77\\r\\n00:02:52,005 --> 00:02:53,798\\r\\nMove around.\\r\\nGet physical.\\r\\n\\r\\n78\\r\\n00:02:53,882 --> 00:02:55,842\\r\\nLike--like this?\\r\\n\\r\\n79\\r\\n00:03:01,222 --> 00:03:02,682\\r\\nI love it.\\r\\n\\r\\n80\\r\\n00:03:02,766 --> 00:03:04,392\\r\\n[bell rings]\\r\\n\\r\\n81\\r\\n00:03:04,476 --> 00:03:07,103\\r\\nAll right, everyone.\\r\\nWe\\'ll see you next time\\r\\n\\r\\n82\\r\\n00:03:07,187 --> 00:03:09,356\\r\\nwhen we begin work\\r\\non our monologues.\\r\\n\\r\\n83\\r\\n00:03:10,982 --> 00:03:13,151\\r\\nEmotion, emotion!\\r\\n\\r\\n84\\r\\n00:03:13,234 --> 00:03:14,819\\r\\nI knew that.\\r\\n\\r\\n85\\r\\n00:03:14,903 --> 00:03:16,738\\r\\nHey, Keely.\\r\\n\\r\\n86\\r\\n00:03:16,821 --> 00:03:17,864\\r\\nNice scene.\\r\\n\\r\\n87\\r\\n00:03:17,947 --> 00:03:20,784\\r\\nVery...\\r\\n\\r\\n88\\r\\n00:03:20,867 --> 00:03:22,285\\r\\nYou know?\\r\\n\\r\\n89\\r\\n00:03:22,369 --> 00:03:24,162\\r\\nUh, really?\\r\\n\\r\\n90\\r\\n00:03:24,245 --> 00:03:26,164\\r\\nThanks. Gee, thanks.\\r\\nReally?\\r\\n\\r\\n91\\r\\n00:03:26,247 --> 00:03:27,415\\r\\nI just kind of went--\\r\\nKeel.\\r\\n\\r\\n92\\r\\n00:03:27,499 --> 00:03:28,750\\r\\nTake a breath.\\r\\n\\r\\n93\\r\\n00:03:29,668 --> 00:03:30,919\\r\\nUh... so...\\r\\n\\r\\n94\\r\\n00:03:31,002 --> 00:03:32,712\\r\\nYou didn\\'t think\\r\\nI was too unemotional?\\r\\n\\r\\n95\\r\\n00:03:32,796 --> 00:03:35,632\\r\\nNo way. I got the whole scene\\r\\njust from your eyes.\\r\\n\\r\\n96\\r\\n00:03:35,715 --> 00:03:38,426\\r\\nYou know, your eyes\\r\\nare the window to your soul.\\r\\n\\r\\n97\\r\\n00:03:38,510 --> 00:03:41,179\\r\\nYou\\'ve got\\r\\nstained glass eyes.\\r\\n\\r\\n98\\r\\n00:03:41,221 --> 00:03:43,807\\r\\n[chuckles, coughs, clears throat]\\r\\n\\r\\n99\\r\\n00:03:43,890 --> 00:03:45,600\\r\\nWow.\\r\\n\\r\\n100\\r\\n00:03:45,684 --> 00:03:46,643\\r\\nYou really think so?\\r\\n\\r\\n101\\r\\n00:03:46,726 --> 00:03:48,228\\r\\nI do.\\r\\n\\r\\n102\\r\\n00:03:48,311 --> 00:03:52,691\\r\\nSo I was wondering if maybe you\\'d like to\\r\\ndo your next scene with me?\\r\\n\\r\\n103\\r\\n00:03:52,774 --> 00:03:55,944\\r\\nAre you kidding?\\r\\nI\\'d love to scene a be in with you.\\r\\n\\r\\n104\\r\\n00:03:56,027 --> 00:03:56,986\\r\\nUh...\\r\\n\\r\\n105\\r\\n00:03:57,070 --> 00:03:59,489\\r\\nBe in a scene with you.\\r\\n\\r\\n106\\r\\n00:03:59,572 --> 00:04:00,990\\r\\nYes. Yes.\\r\\n\\r\\n107\\r\\n00:04:01,074 --> 00:04:02,492\\r\\nGood stuff.\\r\\n\\r\\n108\\r\\n00:04:02,575 --> 00:04:03,660\\r\\nWe\\'ll talk later.\\r\\n\\r\\n109\\r\\n00:04:03,743 --> 00:04:05,578\\r\\nI gotta jet.\\r\\n\\r\\n110\\r\\n00:04:07,205 --> 00:04:08,415\\r\\n-[squeals]\\r\\n-Stained glass eyes.\\r\\n\\r\\n111\\r\\n00:04:08,498 --> 00:04:10,375\\r\\nWho would fall for\\r\\na line like that?\\r\\n\\r\\n112\\r\\n00:04:10,458 --> 00:04:13,044\\r\\nTanner Kirkpatrick\\r\\njust talked to me.\\r\\n\\r\\n113\\r\\n00:04:13,128 --> 00:04:14,838\\r\\nI guess she would.\\r\\n\\r\\n114\\r\\n00:04:22,595 --> 00:04:24,139\\r\\nAre these seats\\r\\ntaken?\\r\\n\\r\\n115\\r\\n00:04:24,222 --> 00:04:25,306\\r\\nYup.\\r\\n\\r\\n116\\r\\n00:04:27,350 --> 00:04:29,436\\r\\nOne moment,\\r\\nsweet pea.\\r\\n\\r\\n117\\r\\n00:04:29,519 --> 00:04:31,604\\r\\nThis is merely\\r\\na handkerchief.\\r\\n\\r\\n118\\r\\n00:04:31,688 --> 00:04:34,232\\r\\nYou deserve\\r\\na velvet throne.\\r\\n\\r\\n119\\r\\n00:04:34,315 --> 00:04:36,776\\r\\nBradley, you are\\r\\nsuch a treasure.\\r\\n\\r\\n120\\r\\n00:04:36,860 --> 00:04:37,902\\r\\nIsn\\'t he a treasure,\\r\\nPim?\\r\\n\\r\\n121\\r\\n00:04:37,986 --> 00:04:39,821\\r\\nI wish he was\\r\\nburied treasure.\\r\\n\\r\\n122\\r\\n00:04:39,904 --> 00:04:42,115\\r\\nPim, you and\\r\\nyour zingers!\\r\\n\\r\\n123\\r\\n00:04:42,198 --> 00:04:44,743\\r\\nYou know, going steady\\r\\nis so much fun.\\r\\n\\r\\n124\\r\\n00:04:44,826 --> 00:04:46,536\\r\\nYou really should\\r\\nfind someone.\\r\\n\\r\\n125\\r\\n00:04:46,619 --> 00:04:48,830\\r\\nBradley, don\\'t you have\\r\\na friend for her?\\r\\n\\r\\n126\\r\\n00:04:48,913 --> 00:04:52,334\\r\\nNo, thanks. I\\'m not interested\\r\\nin anyone from Munchkinland.\\r\\n\\r\\n127\\r\\n00:04:54,002 --> 00:04:55,337\\r\\nWhat about Chauncey?\\r\\n\\r\\n128\\r\\n00:04:55,420 --> 00:04:57,672\\r\\nNo. He\\'s married\\r\\nto his flute.\\r\\n\\r\\n129\\r\\n00:04:57,756 --> 00:05:00,050\\r\\nBut Emerson just got\\r\\nhis braces off!\\r\\n\\r\\n130\\r\\n00:05:00,133 --> 00:05:01,384\\r\\nOh, yay.\\r\\n\\r\\n131\\r\\n00:05:01,468 --> 00:05:04,095\\r\\nYou know, individually,\\r\\nyou 2 are a pain,\\r\\n\\r\\n132\\r\\n00:05:04,179 --> 00:05:06,806\\r\\nbut together,\\r\\nyou\\'re a bee sting in the eye.\\r\\n\\r\\n133\\r\\n00:05:06,890 --> 00:05:09,059\\r\\nPim, you and\\r\\nyour zingers again!\\r\\n\\r\\n134\\r\\n00:05:09,142 --> 00:05:10,560\\r\\nWatch out, carrot top!\\r\\n\\r\\n135\\r\\n00:05:10,643 --> 00:05:12,854\\r\\nOh, I forgot dessert.\\r\\n\\r\\n136\\r\\n00:05:12,937 --> 00:05:15,565\\r\\nLet me. Your wish\\r\\nis my command.\\r\\n\\r\\n137\\r\\n00:05:15,648 --> 00:05:16,941\\r\\nHurry back!\\r\\nI\\'ll miss you!\\r\\n\\r\\n138\\r\\n00:05:17,025 --> 00:05:17,942\\r\\nI\\'ll miss you more!\\r\\n\\r\\n139\\r\\n00:05:18,026 --> 00:05:21,363\\r\\nI can\\'t take this torture.\\r\\n\\r\\n140\\r\\n00:05:21,446 --> 00:05:23,531\\r\\nI gotta break\\r\\nthis couple up.\\r\\n\\r\\n141\\r\\n00:05:23,615 --> 00:05:27,494\\r\\nHmm...\\r\\n\\r\\n142\\r\\n00:05:27,577 --> 00:05:29,621\\r\\nHmm...\\r\\n\\r\\n143\\r\\n00:05:29,704 --> 00:05:32,832\\r\\nBing! Nice.\\r\\n\\r\\n144\\r\\n00:05:32,916 --> 00:05:36,044\\r\\nAlready missing you!\\r\\n\\r\\n145\\r\\n00:05:36,127 --> 00:05:38,004\\r\\nI thought he\\'d never leave.\\r\\n\\r\\n146\\r\\n00:05:38,088 --> 00:05:39,589\\r\\nPim, what\\'s the matter?\\r\\n\\r\\n147\\r\\n00:05:39,673 --> 00:05:42,342\\r\\nI just don\\'t want you\\r\\nto get hurt. It\\'s Bradley.\\r\\n\\r\\n148\\r\\n00:05:42,425 --> 00:05:44,135\\r\\nWhat about Bradley?\\r\\n\\r\\n149\\r\\n00:05:44,219 --> 00:05:47,555\\r\\nI just don\\'t know\\r\\nhow to tell you this.\\r\\n\\r\\n150\\r\\n00:05:47,639 --> 00:05:49,891\\r\\nHe told me he\\'s warm\\r\\nfor my form.\\r\\n\\r\\n151\\r\\n00:05:49,974 --> 00:05:51,935\\r\\n[gasps]\\r\\nHe said this?\\r\\n\\r\\n152\\r\\n00:05:52,018 --> 00:05:54,187\\r\\nMaybe I was leading him on.\\r\\n\\r\\n153\\r\\n00:05:54,270 --> 00:05:57,190\\r\\nI blame myself.\\r\\nBad, Pim! Bad!\\r\\n\\r\\n154\\r\\n00:05:59,651 --> 00:06:02,445\\r\\nHere you go.\\r\\nSweets for my sweet.\\r\\n\\r\\n155\\r\\n00:06:02,529 --> 00:06:04,948\\r\\nBradley Benjamin Farmer,\\r\\nyou--\\r\\n\\r\\n156\\r\\n00:06:05,031 --> 00:06:06,324\\r\\nyou--\\r\\n\\r\\n157\\r\\n00:06:09,661 --> 00:06:11,371\\r\\n[laughter]\\r\\n\\r\\n158\\r\\n00:06:13,415 --> 00:06:14,833\\r\\nNot bad.\\r\\n\\r\\n159\\r\\n00:06:14,916 --> 00:06:17,419\\r\\nAnd last year,\\r\\n\\r\\n160\\r\\n00:06:17,502 --> 00:06:20,296\\r\\nTanner did the scene\\r\\nfrom <i>get off my cloud.</i>\\r\\n\\r\\n161\\r\\n00:06:20,380 --> 00:06:23,133\\r\\nI swear, everybody in\\r\\nthe audience was crying.\\r\\n\\r\\n162\\r\\n00:06:23,216 --> 00:06:24,551\\r\\nWow, it was\\r\\nthat bad, huh?\\r\\n\\r\\n163\\r\\n00:06:24,634 --> 00:06:26,261\\r\\nI\\'m kidding.\\r\\n\\r\\n164\\r\\n00:06:26,344 --> 00:06:27,512\\r\\nBut soft...\\r\\n\\r\\n165\\r\\n00:06:27,595 --> 00:06:28,972\\r\\nWhat light through\\r\\nyonder window breaks?\\r\\n\\r\\n166\\r\\n00:06:29,055 --> 00:06:30,598\\r\\nHey. What\\'s shakin\\'?\\r\\n\\r\\n167\\r\\n00:06:30,682 --> 00:06:34,019\\r\\nKeely, I think I found the perfect\\r\\nscene for us to do--\\r\\n\\r\\n168\\r\\n00:06:34,102 --> 00:06:37,689\\r\\nfrom a little play\\r\\nI like to call <i>Romeo and Juliet.</i>\\r\\n\\r\\n169\\r\\n00:06:37,772 --> 00:06:39,691\\r\\nOh, great. What scene?\\r\\n\\r\\n170\\r\\n00:06:39,774 --> 00:06:41,276\\r\\nUh...\\r\\n\\r\\n171\\r\\n00:06:42,819 --> 00:06:44,863\\r\\nAct 2, scene 2.\\r\\n\\r\\n172\\r\\n00:06:44,946 --> 00:06:47,490\\r\\nThe balcony.\\r\\n\\r\\n173\\r\\n00:06:47,574 --> 00:06:49,200\\r\\n-[cell phone rings]\\r\\n-That\\'s awesome. So...\\r\\n\\r\\n174\\r\\n00:06:49,284 --> 00:06:50,994\\r\\nWhich one of you\\r\\nis gonna play Juliet?\\r\\n\\r\\n175\\r\\n00:06:51,077 --> 00:06:52,620\\r\\nExcuse me.\\r\\n\\r\\n176\\r\\n00:06:52,704 --> 00:06:54,998\\r\\nHello?\\r\\n\\r\\n177\\r\\n00:06:55,081 --> 00:06:56,708\\r\\nNo, I can\\'t right now.\\r\\n\\r\\n178\\r\\n00:06:56,791 --> 00:06:59,919\\r\\nWell, I\\'m gonna\\r\\nsee you tomorrow.\\r\\n\\r\\n179\\r\\n00:07:00,003 --> 00:07:03,131\\r\\nOf course I\\'m looking\\r\\nforward to it.\\r\\n\\r\\n180\\r\\n00:07:03,214 --> 00:07:05,675\\r\\nSee you then.\\r\\n\\r\\n181\\r\\n00:07:05,759 --> 00:07:07,135\\r\\nThat\\'s Darcy.\\r\\n\\r\\n182\\r\\n00:07:07,218 --> 00:07:09,929\\r\\nShe\\'s a little 8-year-old girl\\r\\nfrom Bulgaria.\\r\\n\\r\\n183\\r\\n00:07:10,013 --> 00:07:11,348\\r\\nI tutor her in reading.\\r\\n\\r\\n184\\r\\n00:07:11,431 --> 00:07:14,684\\r\\nOh! That\\'s so sweet.\\r\\n\\r\\n185\\r\\n00:07:14,768 --> 00:07:16,436\\r\\nJust trying to give\\r\\nback a little.\\r\\n\\r\\n186\\r\\n00:07:16,519 --> 00:07:19,814\\r\\nMake the world more...\\r\\n\\r\\n187\\r\\n00:07:19,898 --> 00:07:24,235\\r\\nTanner, you are\\r\\na great American.\\r\\n\\r\\n188\\r\\n00:07:24,319 --> 00:07:26,154\\r\\nAnyway...\\r\\n\\r\\n189\\r\\n00:07:26,237 --> 00:07:28,323\\r\\nKeel, I was thinking\\r\\nwe could get together\\r\\n\\r\\n190\\r\\n00:07:28,406 --> 00:07:30,158\\r\\nlater this afternoon and start\\r\\nrunning our lines.\\r\\n\\r\\n191\\r\\n00:07:30,241 --> 00:07:31,701\\r\\nOh, great!\\r\\n\\r\\n192\\r\\n00:07:31,785 --> 00:07:34,204\\r\\nHow about cocoa palace\\r\\nat 4:30?\\r\\n\\r\\n193\\r\\n00:07:34,287 --> 00:07:35,413\\r\\nBeauteous.\\r\\n\\r\\n194\\r\\n00:07:35,497 --> 00:07:37,582\\r\\n4:30.\\r\\n\\r\\n195\\r\\n00:07:37,665 --> 00:07:39,417\\r\\nHey, you need\\r\\nsome paper?\\r\\n\\r\\n196\\r\\n00:07:39,501 --> 00:07:41,836\\r\\nBecause there\\'s\\r\\na whole lot around if you want.\\r\\n\\r\\n197\\r\\n00:07:41,920 --> 00:07:44,005\\r\\nThis works.\\r\\nKeeping it simple.\\r\\n\\r\\n198\\r\\n00:07:44,089 --> 00:07:46,424\\r\\nAll righty.\\r\\nWell, you go get \\'em, man.\\r\\n\\r\\n199\\r\\n00:07:46,508 --> 00:07:48,218\\r\\nGo make the world more...\\r\\n\\r\\n200\\r\\n00:07:51,096 --> 00:07:52,555\\r\\nHuh.\\r\\n\\r\\n201\\r\\n00:07:58,561 --> 00:08:01,940\\r\\nGrr! Ay-ah!\\r\\nAye-ya-ya!\\r\\n\\r\\n202\\r\\n00:08:02,023 --> 00:08:03,608\\r\\n[doorbell rings]\\r\\n\\r\\n203\\r\\n00:08:03,692 --> 00:08:05,360\\r\\nAnybody\\r\\ngoing to get that?\\r\\n\\r\\n204\\r\\n00:08:06,861 --> 00:08:07,779\\r\\nRr-rawr!\\r\\n\\r\\n205\\r\\n00:08:07,862 --> 00:08:09,781\\r\\n[doorbell ringing]\\r\\n\\r\\n206\\r\\n00:08:09,864 --> 00:08:11,783\\r\\nWhy doesn\\'t\\r\\nPim get it...\\r\\n\\r\\n207\\r\\n00:08:11,866 --> 00:08:13,702\\r\\nAgain?\\r\\n\\r\\n208\\r\\n00:08:16,538 --> 00:08:18,623\\r\\nHi, Pim. I hope I\\'m not\\r\\ninterrupting anything.\\r\\n\\r\\n209\\r\\n00:08:18,707 --> 00:08:21,710\\r\\nNot really,\\r\\nbut you are in my house,\\r\\n\\r\\n210\\r\\n00:08:21,793 --> 00:08:23,545\\r\\nand that feels\\r\\nkinda funky.\\r\\n\\r\\n211\\r\\n00:08:23,628 --> 00:08:27,090\\r\\nWell, it\\'s just I have\\r\\nto talk to somebody about Bradley.\\r\\n\\r\\n212\\r\\n00:08:27,173 --> 00:08:30,010\\r\\nOh, right!\\r\\nThe old romance of the century\\r\\n\\r\\n213\\r\\n00:08:30,093 --> 00:08:32,262\\r\\nwent down the dumper\\r\\ntoday, huh?\\r\\n\\r\\n214\\r\\n00:08:32,345 --> 00:08:33,638\\r\\nWell, that\\'s\\r\\nhow it seems,\\r\\n\\r\\n215\\r\\n00:08:33,722 --> 00:08:35,223\\r\\nbut I\\'m not going\\r\\nto let that happen.\\r\\n\\r\\n216\\r\\n00:08:35,306 --> 00:08:37,517\\r\\nI\\'m going to be\\r\\nmore like you.\\r\\n\\r\\n217\\r\\n00:08:37,600 --> 00:08:39,686\\r\\nYou said what, now?\\r\\n\\r\\n218\\r\\n00:08:39,769 --> 00:08:42,188\\r\\nLook, I understand why\\r\\nBradley is drawn to you.\\r\\n\\r\\n219\\r\\n00:08:42,272 --> 00:08:43,565\\r\\nYou\\'re wild,\\r\\n\\r\\n220\\r\\n00:08:43,648 --> 00:08:46,985\\r\\nand untamed, and you appeal\\r\\nto the beast in him.\\r\\n\\r\\n221\\r\\n00:08:47,068 --> 00:08:49,571\\r\\nThere\\'s a beast in Bradley?\\r\\n\\r\\n222\\r\\n00:08:49,654 --> 00:08:50,739\\r\\nWhat is it, a chipmunk?\\r\\n\\r\\n223\\r\\n00:08:50,822 --> 00:08:53,324\\r\\nLook, I want to be\\r\\nwild and untamed, Pim,\\r\\n\\r\\n224\\r\\n00:08:53,408 --> 00:08:55,201\\r\\nand I want you\\r\\nto teach me.\\r\\n\\r\\n225\\r\\n00:08:55,285 --> 00:08:56,703\\r\\nOk.\\r\\n\\r\\n226\\r\\n00:08:58,747 --> 00:09:00,874\\r\\nLet me hear you growl.\\r\\n\\r\\n227\\r\\n00:09:00,957 --> 00:09:02,042\\r\\nWhat?\\r\\n\\r\\n228\\r\\n00:09:02,125 --> 00:09:03,251\\r\\nGrowl, sister!\\r\\n\\r\\n229\\r\\n00:09:03,335 --> 00:09:04,586\\r\\nGrr?\\r\\n\\r\\n230\\r\\n00:09:04,669 --> 00:09:05,962\\r\\nPut your back\\r\\ninto it!\\r\\n\\r\\n231\\r\\n00:09:06,046 --> 00:09:07,422\\r\\nGrr.\\r\\n\\r\\n232\\r\\n00:09:07,505 --> 00:09:08,548\\r\\n-Grr!\\r\\n-Grr!\\r\\n\\r\\n233\\r\\n00:09:08,631 --> 00:09:10,050\\r\\n-Rawr!\\r\\n-Rawr!\\r\\n\\r\\n234\\r\\n00:09:10,133 --> 00:09:11,217\\r\\n- Grr!\\r\\n- Grr!\\r\\n\\r\\n235\\r\\n00:09:11,301 --> 00:09:13,386\\r\\n- Rawr!\\r\\n- Rawr!\\r\\n\\r\\n236\\r\\n00:09:13,470 --> 00:09:14,637\\r\\n- Grr!\\r\\n- Grr!\\r\\n\\r\\n237\\r\\n00:09:15,847 --> 00:09:17,724\\r\\nPhil, what\\'d you get\\r\\nfor question number one?\\r\\n\\r\\n238\\r\\n00:09:17,807 --> 00:09:19,976\\r\\nUh, x=2.\\r\\n\\r\\n239\\r\\n00:09:20,060 --> 00:09:22,604\\r\\nMe, too!\\r\\n\\r\\n240\\r\\n00:09:22,687 --> 00:09:23,688\\r\\nSo, what\\'d you get\\r\\nfor number 2?\\r\\n\\r\\n241\\r\\n00:09:23,772 --> 00:09:25,106\\r\\nUh, n is greater than y.\\r\\n\\r\\n242\\r\\n00:09:25,190 --> 00:09:27,108\\r\\nMe, too!\\r\\n\\r\\n243\\r\\n00:09:27,192 --> 00:09:28,276\\r\\nSo, what\\'d you get\\r\\nfor number 3?\\r\\n\\r\\n244\\r\\n00:09:28,360 --> 00:09:29,944\\r\\nYou know, Tia,\\r\\nif you cheat,\\r\\n\\r\\n245\\r\\n00:09:30,028 --> 00:09:31,446\\r\\nyou\\'re only\\r\\nhurting yourself.\\r\\n\\r\\n246\\r\\n00:09:33,156 --> 00:09:34,407\\r\\nYou didn\\'t get\\r\\na word of that.\\r\\n\\r\\n247\\r\\n00:09:34,491 --> 00:09:35,825\\r\\n[Keely] Hey, guys!\\r\\n\\r\\n248\\r\\n00:09:35,909 --> 00:09:37,911\\r\\nGuys, guys, guys,\\r\\nguess what happened?\\r\\n\\r\\n249\\r\\n00:09:39,245 --> 00:09:40,955\\r\\nTanner put\\r\\nhis arm around me!\\r\\n\\r\\n250\\r\\n00:09:42,165 --> 00:09:43,750\\r\\n[girls scream]\\r\\n\\r\\n251\\r\\n00:09:44,793 --> 00:09:46,961\\r\\nSorry. The kid don\\'t scream.\\r\\n\\r\\n252\\r\\n00:09:47,045 --> 00:09:49,923\\r\\nOk, girl, dish.\\r\\nTell me everything.\\r\\n\\r\\n253\\r\\n00:09:50,006 --> 00:09:51,216\\r\\nWhich arm,\\r\\nleft or right?\\r\\n\\r\\n254\\r\\n00:09:51,299 --> 00:09:52,759\\r\\n-Left.\\r\\n-Shoulder or waist?\\r\\n\\r\\n255\\r\\n00:09:52,842 --> 00:09:54,427\\r\\n- Waist.\\r\\n- [both scream]\\r\\n\\r\\n256\\r\\n00:09:55,762 --> 00:09:57,097\\r\\nWe finished running lines,\\r\\n\\r\\n257\\r\\n00:09:57,180 --> 00:09:58,181\\r\\nand we\\'re having\\r\\nsome hot chocolate,\\r\\n\\r\\n258\\r\\n00:09:58,264 --> 00:10:01,351\\r\\nand he put\\r\\nhis arm around me.\\r\\n\\r\\n259\\r\\n00:10:01,434 --> 00:10:03,478\\r\\nHey, did he get\\r\\nany ink on you?\\r\\n\\r\\n260\\r\\n00:10:05,480 --> 00:10:08,191\\r\\nWhat? The guy\\'s arm\\r\\nis a giant notepad.\\r\\n\\r\\n261\\r\\n00:10:08,274 --> 00:10:09,734\\r\\nYou know what, girl?\\r\\n\\r\\n262\\r\\n00:10:09,818 --> 00:10:12,195\\r\\nI think you might\\r\\nhave your first boyfriend.\\r\\n\\r\\n263\\r\\n00:10:12,278 --> 00:10:13,488\\r\\nI think I might.\\r\\n\\r\\n264\\r\\n00:10:13,571 --> 00:10:15,490\\r\\n[both scream]\\r\\n\\r\\n265\\r\\n00:10:15,573 --> 00:10:17,200\\r\\nI got to go journal!\\r\\n\\r\\n266\\r\\n00:10:17,283 --> 00:10:19,035\\r\\nGo. Journal\\r\\nlike the wind.\\r\\n\\r\\n267\\r\\n00:10:22,831 --> 00:10:24,374\\r\\nShe\\'s so cute.\\r\\n\\r\\n268\\r\\n00:10:24,457 --> 00:10:26,418\\r\\nI\\'ll never forget\\r\\nmy first boyfriend.\\r\\n\\r\\n269\\r\\n00:10:26,501 --> 00:10:28,294\\r\\nHe was... No.\\r\\n\\r\\n270\\r\\n00:10:28,378 --> 00:10:30,505\\r\\nI think it was\\r\\nbefore that.\\r\\n\\r\\n271\\r\\n00:10:30,588 --> 00:10:33,508\\r\\nGreat story. I just wish Tanner\\r\\nwasn\\'t such a load.\\r\\n\\r\\n272\\r\\n00:10:33,591 --> 00:10:34,968\\r\\nLook who\\'s jealous.\\r\\n\\r\\n273\\r\\n00:10:35,051 --> 00:10:37,303\\r\\nNo. I\\'m not jealous...\\r\\n\\r\\n274\\r\\n00:10:37,387 --> 00:10:38,722\\r\\nI don\\'t think.\\r\\n\\r\\n275\\r\\n00:10:40,056 --> 00:10:42,642\\r\\nNope. I just wish\\r\\nTanner wasn\\'t such a load.\\r\\n\\r\\n276\\r\\n00:10:42,726 --> 00:10:45,020\\r\\nConnor Kubeki!\\r\\n\\r\\n277\\r\\n00:10:45,103 --> 00:10:46,312\\r\\nHe was my first boyfriend.\\r\\n\\r\\n278\\r\\n00:10:46,396 --> 00:10:48,690\\r\\nNo. That was in first grade.\\r\\n\\r\\n279\\r\\n00:10:50,608 --> 00:10:51,943\\r\\nSo, what\\'d you get\\r\\nfor number 4?\\r\\n\\r\\n280\\r\\n00:10:52,944 --> 00:10:53,862\\r\\nThey all want me\\r\\nto take a dive, mckirk.\\r\\n\\r\\n281\\r\\n00:10:53,945 --> 00:10:56,531\\r\\nBut I gotta win!\\r\\nI gotta win, I tell you,\\r\\n\\r\\n282\\r\\n00:10:56,614 --> 00:10:58,116\\r\\nso I can pay\\r\\nfor my sister\\'s operation.\\r\\n\\r\\n283\\r\\n00:10:58,199 --> 00:11:00,076\\r\\nSo take your best shot!\\r\\n\\r\\n284\\r\\n00:11:00,160 --> 00:11:01,494\\r\\nEnd scene!\\r\\n\\r\\n285\\r\\n00:11:03,496 --> 00:11:07,083\\r\\nPhil, good.\\r\\nYou\\'re moving around more.\\r\\n\\r\\n286\\r\\n00:11:07,167 --> 00:11:09,711\\r\\nGetting physical.\\r\\nGetting physical.\\r\\n\\r\\n287\\r\\n00:11:09,794 --> 00:11:13,882\\r\\nMercer, you, sir,\\r\\n\\r\\n288\\r\\n00:11:13,965 --> 00:11:15,091\\r\\nare money.\\r\\n\\r\\n289\\r\\n00:11:16,134 --> 00:11:18,720\\r\\nExcuse me.\\r\\n\\r\\n290\\r\\n00:11:18,803 --> 00:11:20,347\\r\\nI\\'m looking for\\r\\nTanner Kirkpatrick.\\r\\n\\r\\n291\\r\\n00:11:20,472 --> 00:11:23,016\\r\\nHe couldn\\'t do after school\\r\\nscene work today.\\r\\n\\r\\n292\\r\\n00:11:23,099 --> 00:11:24,517\\r\\nHe had\\r\\na dentist\\'s appointment.\\r\\n\\r\\n293\\r\\n00:11:24,601 --> 00:11:26,186\\r\\nOh, well,\\r\\nif you see him,\\r\\n\\r\\n294\\r\\n00:11:26,269 --> 00:11:27,604\\r\\ncould you tell him\\r\\nthat Darcy stopped by?\\r\\n\\r\\n295\\r\\n00:11:27,687 --> 00:11:29,272\\r\\n- Darcy?\\r\\n- Miss Darcy,\\r\\n\\r\\n296\\r\\n00:11:29,356 --> 00:11:31,024\\r\\nrest assured that Mr. Kirkpatrick\\r\\n\\r\\n297\\r\\n00:11:31,107 --> 00:11:33,526\\r\\nwill receive this missive.\\r\\n\\r\\n298\\r\\n00:11:33,610 --> 00:11:34,652\\r\\nOk.\\r\\n\\r\\n299\\r\\n00:11:35,779 --> 00:11:38,114\\r\\nTell me, did Darcy\\r\\nstrike you as an 8-year-old\\r\\n\\r\\n300\\r\\n00:11:38,198 --> 00:11:40,575\\r\\nBulgarian girl\\r\\nwho can\\'t read?\\r\\n\\r\\n301\\r\\n00:11:40,658 --> 00:11:41,868\\r\\nI\\'ll teach her\\r\\nhow to read.\\r\\n\\r\\n302\\r\\n00:11:41,951 --> 00:11:43,203\\r\\nKnow what I\\'m saying?\\r\\n\\r\\n303\\r\\n00:11:43,286 --> 00:11:45,455\\r\\nNo. What are you saying?\\r\\n\\r\\n304\\r\\n00:11:47,457 --> 00:11:48,875\\r\\nI don\\'t know.\\r\\n\\r\\n305\\r\\n00:11:48,958 --> 00:11:51,378\\r\\nKeep working on it.\\r\\n\\r\\n306\\r\\n00:11:51,461 --> 00:11:53,963\\r\\nNow, acting\\r\\nis really lying.\\r\\n\\r\\n307\\r\\n00:11:54,047 --> 00:11:56,383\\r\\nAnd also,\\r\\nit\\'s telling the truth.\\r\\n\\r\\n308\\r\\n00:11:58,000 --> 00:12:04,074\\r\\nWatch any video online with Open-SUBTITLES\\r\\nFree Browser extension: osdb.link/ext\\r\\n\\r\\n309\\r\\n00:12:08,895 --> 00:12:10,021\\r\\nHey, Darcy.\\r\\n\\r\\n310\\r\\n00:12:10,105 --> 00:12:12,816\\r\\nUh, I heard you came by.\\r\\n\\r\\n311\\r\\n00:12:12,899 --> 00:12:14,484\\r\\nTanner, I asked my parents\\r\\n\\r\\n312\\r\\n00:12:14,567 --> 00:12:15,652\\r\\nif you can come\\r\\nskiing next weekend,\\r\\n\\r\\n313\\r\\n00:12:15,735 --> 00:12:17,362\\r\\nand they\\'re\\r\\nthinking about it.\\r\\n\\r\\n314\\r\\n00:12:17,445 --> 00:12:18,863\\r\\nIsn\\'t that great?\\r\\n\\r\\n315\\r\\n00:12:24,077 --> 00:12:26,121\\r\\nTanner, what\\'s wrong?\\r\\n\\r\\n316\\r\\n00:12:38,216 --> 00:12:39,426\\r\\n[in deep voice]\\r\\nOh, that\\'s better.\\r\\n\\r\\n317\\r\\n00:12:39,509 --> 00:12:41,177\\r\\nWhat\\'s wrong\\r\\nwith your voice?\\r\\n\\r\\n318\\r\\n00:12:41,261 --> 00:12:44,097\\r\\nUm, I must be\\r\\ngetting a cold.\\r\\n\\r\\n319\\r\\n00:12:44,180 --> 00:12:45,432\\r\\nAhem.\\r\\n\\r\\n320\\r\\n00:12:45,515 --> 00:12:47,934\\r\\n[coughing] Better get back inside\\r\\nto work on my scene.\\r\\n\\r\\n321\\r\\n00:12:48,018 --> 00:12:50,520\\r\\nOk, boo. See ya.\\r\\n\\r\\n322\\r\\n00:12:50,603 --> 00:12:53,857\\r\\nMm-mmm.\\r\\n\\r\\n323\\r\\n00:12:53,940 --> 00:12:55,025\\r\\nYou may be getting\\r\\na cold,\\r\\n\\r\\n324\\r\\n00:12:55,108 --> 00:12:57,444\\r\\nbut your kissing\\r\\nis better than ever, Tanner.\\r\\n\\r\\n325\\r\\n00:12:59,279 --> 00:13:00,905\\r\\nHmm.\\r\\n\\r\\n326\\r\\n00:13:08,580 --> 00:13:10,331\\r\\nHuh.\\r\\n\\r\\n327\\r\\n00:13:10,415 --> 00:13:12,542\\r\\n\"You\\'re kissing better than ever,\\r\\nTanner.\"\\r\\n\\r\\n328\\r\\n00:13:15,670 --> 00:13:16,921\\r\\nTanner.\\r\\n\\r\\n329\\r\\n00:13:17,005 --> 00:13:18,590\\r\\nOh, no.\\r\\n\\r\\n330\\r\\n00:13:18,673 --> 00:13:20,008\\r\\nKeely.\\r\\n\\r\\n331\\r\\n00:13:29,559 --> 00:13:31,478\\r\\nHey, son,\\r\\nwhat\\'s up? Ow!\\r\\n\\r\\n332\\r\\n00:13:31,561 --> 00:13:32,479\\r\\nNothing.\\r\\n\\r\\n333\\r\\n00:13:32,562 --> 00:13:34,314\\r\\nHey, hey. That wasn\\'t\\r\\na nothing nothing.\\r\\n\\r\\n334\\r\\n00:13:34,397 --> 00:13:35,482\\r\\nThat was\\r\\na something nothing.\\r\\n\\r\\n335\\r\\n00:13:35,565 --> 00:13:37,525\\r\\nI\\'ve got kind of\\r\\na problem with Keely.\\r\\n\\r\\n336\\r\\n00:13:37,609 --> 00:13:40,362\\r\\nSay you\\'re sorry.\\r\\nAct like you mean it. Move on. Ow!\\r\\n\\r\\n337\\r\\n00:13:40,445 --> 00:13:41,738\\r\\nI didn\\'t do anything.\\r\\n\\r\\n338\\r\\n00:13:41,821 --> 00:13:43,114\\r\\nIt\\'s Keely\\'s problem.\\r\\n\\r\\n339\\r\\n00:13:43,198 --> 00:13:44,866\\r\\nThen just\\r\\nstay out of it.\\r\\n\\r\\n340\\r\\n00:13:44,949 --> 00:13:47,118\\r\\n- Ha ha. Missed me.\\r\\n- Ow!\\r\\n\\r\\n341\\r\\n00:13:47,202 --> 00:13:49,371\\r\\nKeely really likes\\r\\nthis guy at school,\\r\\n\\r\\n342\\r\\n00:13:49,454 --> 00:13:50,872\\r\\nand I found out\\r\\nhe\\'s 2-timing her.\\r\\n\\r\\n343\\r\\n00:13:50,955 --> 00:13:52,374\\r\\nHow\\'d you find\\r\\nthat out?\\r\\n\\r\\n344\\r\\n00:13:52,457 --> 00:13:54,292\\r\\nI kissed his girlfriend.\\r\\n\\r\\n345\\r\\n00:13:54,376 --> 00:13:55,627\\r\\nLong story.\\r\\n\\r\\n346\\r\\n00:13:55,710 --> 00:13:57,379\\r\\nAnd you don\\'t want\\r\\nKeely to get hurt?\\r\\n\\r\\n347\\r\\n00:13:57,462 --> 00:13:58,588\\r\\nYeah.\\r\\n\\r\\n348\\r\\n00:13:58,672 --> 00:14:01,049\\r\\nShe\\'s going to get hurt\\r\\neither way, sweetie.\\r\\n\\r\\n349\\r\\n00:14:01,132 --> 00:14:03,259\\r\\nMight be better for her\\r\\nto hear it from you.\\r\\n\\r\\n350\\r\\n00:14:03,343 --> 00:14:05,053\\r\\nUh-uh, uh-uh.\\r\\nNo, sir.\\r\\n\\r\\n351\\r\\n00:14:05,136 --> 00:14:07,222\\r\\nSometimes you just got to stay out of\\r\\nother people\\'s business.\\r\\n\\r\\n352\\r\\n00:14:07,305 --> 00:14:08,473\\r\\nYou don\\'t have\\r\\nto tell her everything.\\r\\n\\r\\n353\\r\\n00:14:08,556 --> 00:14:09,974\\r\\nI don\\'t tell your mom\\r\\neverything.\\r\\n\\r\\n354\\r\\n00:14:10,058 --> 00:14:11,643\\r\\nOh, and what\\r\\nhaven\\'t you told me?\\r\\n\\r\\n355\\r\\n00:14:11,726 --> 00:14:14,813\\r\\nNo, i--he doesn\\'t--\\r\\n\\r\\n356\\r\\n00:14:14,896 --> 00:14:16,147\\r\\nI\\'ve told you--\\r\\n\\r\\n357\\r\\n00:14:16,231 --> 00:14:17,649\\r\\n[telephone ringing]\\r\\n\\r\\n358\\r\\n00:14:17,732 --> 00:14:19,150\\r\\nYes! There\\'s the phone.\\r\\nI\\'ll get it.\\r\\n\\r\\n359\\r\\n00:14:20,652 --> 00:14:22,404\\r\\nLike I won\\'t\\r\\nsee him later.\\r\\n\\r\\n360\\r\\n00:14:23,405 --> 00:14:27,325\\r\\nOk, so if it\\'s that\\r\\nPim Diffy attitude\\r\\n\\r\\n361\\r\\n00:14:27,409 --> 00:14:30,328\\r\\nthat Bradley Benjamin Farmer wants,\\r\\n\\r\\n362\\r\\n00:14:30,412 --> 00:14:32,497\\r\\nthat\\'s exactly\\r\\nwhat he\\'s going to get.\\r\\n\\r\\n363\\r\\n00:14:32,580 --> 00:14:33,707\\r\\nYay.\\r\\n\\r\\n364\\r\\n00:14:33,790 --> 00:14:35,000\\r\\nYeah.\\r\\n\\r\\n365\\r\\n00:14:35,083 --> 00:14:37,252\\r\\nSo, I\\'m a kid at school,\\r\\nand I look at you funny.\\r\\n\\r\\n366\\r\\n00:14:37,335 --> 00:14:38,420\\r\\nWhat do you say?\\r\\n\\r\\n367\\r\\n00:14:38,503 --> 00:14:40,880\\r\\nWhat\\'re you\\r\\nlooking at?\\r\\n\\r\\n368\\r\\n00:14:40,964 --> 00:14:42,465\\r\\nNo, no.\\r\\nLike this.\\r\\n\\r\\n369\\r\\n00:14:42,549 --> 00:14:44,134\\r\\nWhat\\'re <i>you</i>\\r\\nlooking at?\\r\\n\\r\\n370\\r\\n00:14:44,217 --> 00:14:46,302\\r\\nWhat\\'re you\\r\\nlooking at?\\r\\n\\r\\n371\\r\\n00:14:46,386 --> 00:14:48,096\\r\\nWhat\\'re you\\r\\nlooking at!?\\r\\n\\r\\n372\\r\\n00:14:48,179 --> 00:14:50,682\\r\\nWhat\\'re you\\r\\nlooking at?\\r\\n\\r\\n373\\r\\n00:14:52,642 --> 00:14:54,853\\r\\nHey, girls, I was gonna make a snack.\\r\\nYou want something?\\r\\n\\r\\n374\\r\\n00:14:56,938 --> 00:14:59,190\\r\\nDebbie, tell him\\r\\nwhat you want.\\r\\n\\r\\n375\\r\\n00:14:59,274 --> 00:15:00,400\\r\\nWith attitude.\\r\\n\\r\\n376\\r\\n00:15:00,483 --> 00:15:03,945\\r\\nWhat do you think I want?\\r\\n\\r\\n377\\r\\n00:15:04,029 --> 00:15:04,988\\r\\nI don\\'t know.\\r\\n\\r\\n378\\r\\n00:15:05,071 --> 00:15:06,489\\r\\nThat\\'s why I asked.\\r\\nPopcorn?\\r\\n\\r\\n379\\r\\n00:15:06,573 --> 00:15:09,242\\r\\nYou wish\\r\\nI wanted popcorn.\\r\\n\\r\\n380\\r\\n00:15:09,325 --> 00:15:10,702\\r\\nIs everything ok here?\\r\\n\\r\\n381\\r\\n00:15:10,785 --> 00:15:12,829\\r\\nMake with the popcorn, Stretch.\\r\\n\\r\\n382\\r\\n00:15:12,912 --> 00:15:14,497\\r\\nI\\'ll wait for a please.\\r\\n\\r\\n383\\r\\n00:15:14,581 --> 00:15:16,291\\r\\nRr-rawr!\\r\\n\\r\\n384\\r\\n00:15:19,336 --> 00:15:22,255\\r\\nI feel terrible.\\r\\nWait! No.\\r\\n\\r\\n385\\r\\n00:15:22,339 --> 00:15:26,426\\r\\nI don\\'t. That was\\r\\nactually kinda fun.\\r\\n\\r\\n386\\r\\n00:15:26,509 --> 00:15:30,972\\r\\nI\\'ll be in my office.\\r\\nKeep practicing.\\r\\n\\r\\n387\\r\\n00:15:31,056 --> 00:15:33,141\\r\\nI can\\'t wait\\r\\nto see what happens\\r\\n\\r\\n388\\r\\n00:15:33,224 --> 00:15:35,810\\r\\nwhen Bradley gets\\r\\na bellyful of you.\\r\\n\\r\\n389\\r\\n00:15:35,894 --> 00:15:37,812\\r\\nOh, he\\'ll get\\r\\na bellyful all right.\\r\\n\\r\\n390\\r\\n00:15:37,896 --> 00:15:39,981\\r\\nHe\\'ll get\\r\\nsuch a bellyful,\\r\\n\\r\\n391\\r\\n00:15:40,065 --> 00:15:42,150\\r\\nhe\\'ll look like\\r\\na pregnant whale.\\r\\n\\r\\n392\\r\\n00:15:42,233 --> 00:15:44,152\\r\\nOh, so now I\\'m fat,\\r\\nis that it?\\r\\n\\r\\n393\\r\\n00:15:44,235 --> 00:15:45,487\\r\\nYou\\'re a meanie.\\r\\n\\r\\n394\\r\\n00:15:45,570 --> 00:15:46,905\\r\\nYou\\'re a mean kid.\\r\\n\\r\\n395\\r\\n00:15:48,948 --> 00:15:50,950\\r\\n[bell rings]\\r\\n\\r\\n396\\r\\n00:15:53,620 --> 00:15:55,872\\r\\nHey, Keel, can I talk\\r\\nto you a second?\\r\\n\\r\\n397\\r\\n00:15:55,955 --> 00:15:57,374\\r\\nI\\'m kinda in a hurry.\\r\\n\\r\\n398\\r\\n00:15:57,457 --> 00:15:59,042\\r\\nI\\'m on my way\\r\\nto rehearse with blue.\\r\\n\\r\\n399\\r\\n00:15:59,125 --> 00:16:00,543\\r\\n- Blue?\\r\\n- That\\'s what I call Tanner.\\r\\n\\r\\n400\\r\\n00:16:00,627 --> 00:16:02,045\\r\\nBecause of the ink\\r\\non his arms?\\r\\n\\r\\n401\\r\\n00:16:02,128 --> 00:16:03,380\\r\\nNo. Because of his eyes.\\r\\n\\r\\n402\\r\\n00:16:03,463 --> 00:16:05,548\\r\\nHe calls me glowworm\\r\\nbecause I light up his life.\\r\\n\\r\\n403\\r\\n00:16:05,632 --> 00:16:06,883\\r\\nIsn\\'t he incredible?\\r\\n\\r\\n404\\r\\n00:16:06,966 --> 00:16:08,093\\r\\nUh, look...\\r\\n\\r\\n405\\r\\n00:16:08,176 --> 00:16:10,845\\r\\nI know you think so,\\r\\nbut...\\r\\n\\r\\n406\\r\\n00:16:10,929 --> 00:16:12,889\\r\\nWhat do you mean but?\\r\\n\\r\\n407\\r\\n00:16:12,972 --> 00:16:14,307\\r\\nI\\'m saying maybe,\\r\\nI don\\'t know,\\r\\n\\r\\n408\\r\\n00:16:14,391 --> 00:16:15,392\\r\\nyou\\'re rushing things\\r\\na bit.\\r\\n\\r\\n409\\r\\n00:16:15,475 --> 00:16:16,893\\r\\nI don\\'t think I am.\\r\\n\\r\\n410\\r\\n00:16:19,062 --> 00:16:20,855\\r\\nWhy can\\'t you\\r\\njust be happy for me?\\r\\n\\r\\n411\\r\\n00:16:20,939 --> 00:16:23,149\\r\\nKeely, listen to me.\\r\\n\\r\\n412\\r\\n00:16:23,233 --> 00:16:24,401\\r\\nTanner\\'s not a good guy.\\r\\n\\r\\n413\\r\\n00:16:24,484 --> 00:16:26,403\\r\\nYou just don\\'t like him.\\r\\nYou never have.\\r\\n\\r\\n414\\r\\n00:16:26,486 --> 00:16:29,322\\r\\nAnd instead of supporting me\\r\\nlike a real friend,\\r\\n\\r\\n415\\r\\n00:16:29,406 --> 00:16:31,324\\r\\nyou just make\\r\\nsnotty jokes about Tanner.\\r\\n\\r\\n416\\r\\n00:16:31,408 --> 00:16:32,742\\r\\nNo. You don\\'t understand.\\r\\n\\r\\n417\\r\\n00:16:32,826 --> 00:16:34,327\\r\\nOh, I understand.\\r\\n\\r\\n418\\r\\n00:16:34,411 --> 00:16:35,662\\r\\nAll you can do\\r\\nis tear Tanner down\\r\\n\\r\\n419\\r\\n00:16:35,745 --> 00:16:37,330\\r\\nbecause he likes me,\\r\\nand I like him.\\r\\n\\r\\n420\\r\\n00:16:37,414 --> 00:16:40,083\\r\\nYou\\'re such an immature jerk,\\r\\nyou can\\'t handle it.\\r\\n\\r\\n421\\r\\n00:16:40,166 --> 00:16:41,876\\r\\nGrow up.\\r\\n\\r\\n422\\r\\n00:16:52,679 --> 00:16:54,431\\r\\nYo, Farmer.\\r\\n\\r\\n423\\r\\n00:16:54,514 --> 00:16:56,182\\r\\nHow\\'s your crops growing?\\r\\n\\r\\n424\\r\\n00:16:56,266 --> 00:16:57,851\\r\\nWhat\\'re you\\r\\nlooking at?\\r\\n\\r\\n425\\r\\n00:16:57,934 --> 00:17:00,186\\r\\nDeborah,\\r\\nis that you?\\r\\n\\r\\n426\\r\\n00:17:00,270 --> 00:17:02,188\\r\\nHeh. It ain\\'t\\r\\nthe easter bunny.\\r\\n\\r\\n427\\r\\n00:17:10,697 --> 00:17:13,283\\r\\nRomeo,\\r\\ndoff thy name.\\r\\n\\r\\n428\\r\\n00:17:13,366 --> 00:17:16,119\\r\\nFor thy name\\r\\nis no part of thee.\\r\\n\\r\\n429\\r\\n00:17:16,202 --> 00:17:18,163\\r\\nTake all myself.\\r\\n\\r\\n430\\r\\n00:17:18,246 --> 00:17:19,998\\r\\nI take thee\\r\\nat thy word.\\r\\n\\r\\n431\\r\\n00:17:20,081 --> 00:17:22,208\\r\\nCall me but love,\\r\\n\\r\\n432\\r\\n00:17:22,292 --> 00:17:23,752\\r\\nand I\\'ll\\r\\nbe new baptized.\\r\\n\\r\\n433\\r\\n00:17:23,835 --> 00:17:25,920\\r\\nHenceforth,\\r\\nI will never be--\\r\\n\\r\\n434\\r\\n00:17:26,004 --> 00:17:27,213\\r\\nDarcy?\\r\\n\\r\\n435\\r\\n00:17:27,297 --> 00:17:29,841\\r\\nHey, boo.\\r\\nDidn\\'t mean to interrupt.\\r\\n\\r\\n436\\r\\n00:17:29,924 --> 00:17:31,426\\r\\nCan we take 5?\\r\\n\\r\\n437\\r\\n00:17:31,509 --> 00:17:32,510\\r\\nMm-hmm.\\r\\n\\r\\n438\\r\\n00:17:34,888 --> 00:17:36,306\\r\\nHey.\\r\\nMom and Dad said\\r\\n\\r\\n439\\r\\n00:17:36,389 --> 00:17:37,807\\r\\nyou can come skiing\\r\\nnext weekend.\\r\\n\\r\\n440\\r\\n00:17:37,891 --> 00:17:39,184\\r\\nIsn\\'t that awesome?\\r\\n\\r\\n441\\r\\n00:17:40,477 --> 00:17:44,064\\r\\nKeely, this is\\r\\n<i>Romeo and Juliet, </i>girl.\\r\\n\\r\\n442\\r\\n00:17:44,147 --> 00:17:47,275\\r\\nEmotion. Emotion!\\r\\n\\r\\n443\\r\\n00:17:47,359 --> 00:17:49,569\\r\\nI can\\'t wait\\r\\nuntil next weekend.\\r\\n\\r\\n444\\r\\n00:18:01,206 --> 00:18:03,375\\r\\nAhem.\\r\\n\\r\\n445\\r\\n00:18:06,252 --> 00:18:08,713\\r\\nUh, is this going\\r\\nto be weird for you?\\r\\n\\r\\n446\\r\\n00:18:08,797 --> 00:18:10,215\\r\\nBecause I don\\'t\\r\\nthink we ever said\\r\\n\\r\\n447\\r\\n00:18:10,298 --> 00:18:12,300\\r\\nwe were exclusive\\r\\nor anything.\\r\\n\\r\\n448\\r\\n00:18:12,384 --> 00:18:17,430\\r\\nNo. No problem.\\r\\nIt\\'s cool.\\r\\n\\r\\n449\\r\\n00:18:17,514 --> 00:18:19,265\\r\\nOk. Ahem.\\r\\n\\r\\n450\\r\\n00:18:19,349 --> 00:18:21,142\\r\\nSo, uh, so,\\r\\nwhere were we?\\r\\n\\r\\n451\\r\\n00:18:21,226 --> 00:18:22,268\\r\\nOh, right, right.\\r\\n\\r\\n452\\r\\n00:18:22,352 --> 00:18:25,397\\r\\nHenceforth,\\r\\nI will never be Romeo.\\r\\n\\r\\n453\\r\\n00:18:26,981 --> 00:18:29,484\\r\\nDoest thou love me?\\r\\n\\r\\n454\\r\\n00:18:29,567 --> 00:18:31,653\\r\\nI know thou\\r\\nwilt say aye,\\r\\n\\r\\n455\\r\\n00:18:31,736 --> 00:18:34,531\\r\\nand I will\\r\\ntake thy word.\\r\\n\\r\\n456\\r\\n00:18:34,614 --> 00:18:37,242\\r\\nAnd if thou\\r\\nswearest thou...\\r\\n\\r\\n457\\r\\n00:18:41,454 --> 00:18:45,333\\r\\nThou mayest\\r\\nprove false.\\r\\n\\r\\n458\\r\\n00:18:45,417 --> 00:18:47,752\\r\\nThat\\'s the emotion\\r\\nI\\'m looking for!\\r\\n\\r\\n459\\r\\n00:18:47,836 --> 00:18:49,087\\r\\nSure, you dropped\\r\\na few words,\\r\\n\\r\\n460\\r\\n00:18:49,170 --> 00:18:51,756\\r\\nbut it was progress.\\r\\nProgress!\\r\\n\\r\\n461\\r\\n00:18:51,840 --> 00:18:53,341\\r\\nThank you.\\r\\n\\r\\n462\\r\\n00:19:08,523 --> 00:19:10,025\\r\\nHey.\\r\\n\\r\\n463\\r\\n00:19:11,860 --> 00:19:13,361\\r\\nYou all right?\\r\\n\\r\\n464\\r\\n00:19:15,196 --> 00:19:17,198\\r\\nGot it. I\\'ll leave\\r\\nyou alone.\\r\\n\\r\\n465\\r\\n00:19:19,200 --> 00:19:21,327\\r\\nHow come you\\'re not\\r\\nsaying I told you so?\\r\\n\\r\\n466\\r\\n00:19:21,411 --> 00:19:23,413\\r\\nWhy would\\r\\nI say that?\\r\\n\\r\\n467\\r\\n00:19:23,496 --> 00:19:25,290\\r\\nBecause you were right.\\r\\n\\r\\n468\\r\\n00:19:25,373 --> 00:19:28,084\\r\\nIt\\'s not something I wanted\\r\\nto be right about.\\r\\n\\r\\n469\\r\\n00:19:28,168 --> 00:19:30,211\\r\\nI said all\\r\\nthat horrible stuff to you.\\r\\n\\r\\n470\\r\\n00:19:30,295 --> 00:19:31,463\\r\\nWhat?\\r\\n\\r\\n471\\r\\n00:19:31,546 --> 00:19:33,048\\r\\nAbout being an immature jerk?\\r\\n\\r\\n472\\r\\n00:19:33,131 --> 00:19:34,758\\r\\nOh, no. I get that all the time.\\r\\n\\r\\n473\\r\\n00:19:34,841 --> 00:19:36,760\\r\\nMy sister says that.\\r\\nFriends, parents,\\r\\n\\r\\n474\\r\\n00:19:36,843 --> 00:19:38,053\\r\\nrandom people\\r\\non the street.\\r\\n\\r\\n475\\r\\n00:19:38,136 --> 00:19:40,638\\r\\n\"Hey, it\\'s the immature jerk.\\r\\nWhat up?\"\\r\\n\\r\\n476\\r\\n00:19:42,557 --> 00:19:44,684\\r\\nHow can you stand there\\r\\nand not be mad at me?\\r\\n\\r\\n477\\r\\n00:19:44,768 --> 00:19:47,479\\r\\nBecause you\\'re\\r\\nfeeling lousy.\\r\\n\\r\\n478\\r\\n00:19:47,562 --> 00:19:48,980\\r\\nFriends are supposed to be there\\r\\nfor each other\\r\\n\\r\\n479\\r\\n00:19:49,064 --> 00:19:50,482\\r\\nwhen that happens.\\r\\n\\r\\n480\\r\\n00:19:50,565 --> 00:19:52,734\\r\\nWell...\\r\\n\\r\\n481\\r\\n00:19:52,817 --> 00:19:54,319\\r\\nI do feel pretty lousy.\\r\\n\\r\\n482\\r\\n00:19:54,402 --> 00:19:55,695\\r\\nYeah.\\r\\n\\r\\n483\\r\\n00:19:55,779 --> 00:19:59,324\\r\\nI think life\\'s going to make us feel\\r\\nlike that sometimes.\\r\\n\\r\\n484\\r\\n00:19:59,407 --> 00:20:01,534\\r\\nProbably a lot.\\r\\n\\r\\n485\\r\\n00:20:02,535 --> 00:20:04,037\\r\\nI think we\\'re\\r\\npretty lucky.\\r\\n\\r\\n486\\r\\n00:20:04,120 --> 00:20:05,622\\r\\nLucky?\\r\\n\\r\\n487\\r\\n00:20:05,705 --> 00:20:06,831\\r\\nYeah.\\r\\n\\r\\n488\\r\\n00:20:06,915 --> 00:20:08,500\\r\\nWe got each other\\'s backs.\\r\\n\\r\\n489\\r\\n00:20:08,583 --> 00:20:09,876\\r\\nWe always will.\\r\\n\\r\\n490\\r\\n00:20:11,169 --> 00:20:12,921\\r\\nAlways.\\r\\n\\r\\n491\\r\\n00:20:13,004 --> 00:20:16,049\\r\\nWell, that\\'s how\\r\\nI\\'m planning my future.\\r\\n\\r\\n492\\r\\n00:20:22,097 --> 00:20:24,391\\r\\nListen, actor boy,\\r\\nand listen good.\\r\\n\\r\\n493\\r\\n00:20:24,474 --> 00:20:26,184\\r\\nIf you ever cheat\\r\\non another girl,\\r\\n\\r\\n494\\r\\n00:20:26,267 --> 00:20:27,852\\r\\nif you ever lie\\r\\nto another girl,\\r\\n\\r\\n495\\r\\n00:20:27,936 --> 00:20:30,230\\r\\nthen I\\'m stuffing you in that locker\\r\\nand throwing away the key!\\r\\n\\r\\n496\\r\\n00:20:30,313 --> 00:20:32,941\\r\\nYou hear me?\\r\\nI said did you hear me?\\r\\n\\r\\n497\\r\\n00:20:33,024 --> 00:20:34,192\\r\\nYes! All right!\\r\\n\\r\\n498\\r\\n00:20:34,275 --> 00:20:36,319\\r\\nAll right, then.\\r\\nI suggest you get out of my sight.\\r\\n\\r\\n499\\r\\n00:20:36,403 --> 00:20:38,363\\r\\nOk. Ok. Ok.\\r\\n\\r\\n500\\r\\n00:20:38,446 --> 00:20:40,824\\r\\nRun, you little weasel!\\r\\n\\r\\n501\\r\\n00:20:43,910 --> 00:20:45,495\\r\\nWe did it!\\r\\n\\r\\n502\\r\\n00:20:45,578 --> 00:20:47,414\\r\\nOh, oh. Hmm.\\r\\n\\r\\n503\\r\\n00:20:51,001 --> 00:20:52,877\\r\\nThanks for letting me\\r\\nuse the instamorph.\\r\\n\\r\\n504\\r\\n00:20:52,961 --> 00:20:55,213\\r\\nAny time.\\r\\n\\r\\n505\\r\\n00:20:56,756 --> 00:20:58,508\\r\\nLittle weasel?\\r\\nNot too bad.\\r\\n\\r\\n506\\r\\n00:20:58,591 --> 00:21:02,012\\r\\nThanks. I was kinda\\r\\nin the moment.\\r\\n\\r\\n507\\r\\n00:21:06,391 --> 00:21:09,811\\r\\nPim, how you doing?\\r\\n\\r\\n508\\r\\n00:21:09,894 --> 00:21:10,979\\r\\nFarmer.\\r\\n\\r\\n509\\r\\n00:21:11,062 --> 00:21:12,981\\r\\nDebbie told me how\\r\\nyou\\'ve been teaching her\\r\\n\\r\\n510\\r\\n00:21:13,064 --> 00:21:14,274\\r\\nto be more like you.\\r\\n\\r\\n511\\r\\n00:21:14,357 --> 00:21:16,151\\r\\nMe like it.\\r\\n\\r\\n512\\r\\n00:21:16,234 --> 00:21:17,694\\r\\nWhat?\\r\\n\\r\\n513\\r\\n00:21:17,777 --> 00:21:19,320\\r\\nShe gave me\\r\\nthe heave-ho,\\r\\n\\r\\n514\\r\\n00:21:19,404 --> 00:21:21,865\\r\\nsaid I\\'m too white bread\\r\\nfor her now,\\r\\n\\r\\n515\\r\\n00:21:21,948 --> 00:21:24,034\\r\\nbut I got to admit...\\r\\n\\r\\n516\\r\\n00:21:24,117 --> 00:21:26,369\\r\\nI like Debbie\\r\\nwith some edge.\\r\\n\\r\\n517\\r\\n00:21:26,453 --> 00:21:28,121\\r\\nSo go after her.\\r\\n\\r\\n518\\r\\n00:21:29,289 --> 00:21:30,874\\r\\nWhy would I go\\r\\nafter hamburger\\r\\n\\r\\n519\\r\\n00:21:30,957 --> 00:21:32,375\\r\\nwhen I\\'m looking at steak?\\r\\n\\r\\n520\\r\\n00:21:32,417 --> 00:21:33,793\\r\\nAll right.\\r\\n\\r\\n521\\r\\n00:21:33,877 --> 00:21:35,128\\r\\nWait a minute.\\r\\n\\r\\n522\\r\\n00:21:35,211 --> 00:21:37,213\\r\\nAm I the steak\\r\\nin this?\\r\\n\\r\\n523\\r\\n00:21:37,297 --> 00:21:38,965\\r\\nFilet mignon.\\r\\n\\r\\n524\\r\\n00:21:39,049 --> 00:21:41,885\\r\\nBradley, no way, no how.\\r\\n\\r\\n525\\r\\n00:21:41,968 --> 00:21:43,470\\r\\nNot here, not anywhere else.\\r\\n\\r\\n526\\r\\n00:21:43,553 --> 00:21:46,139\\r\\nNot now, not ever.\\r\\n\\r\\n527\\r\\n00:21:47,766 --> 00:21:49,517\\r\\nI like a challenge.\\r\\n\\r\\n528\\r\\n00:21:50,769 --> 00:21:52,020\\r\\nWhat have I done?\\r\\n\\r\\n529\\r\\n00:21:52,103 --> 00:21:54,189\\r\\nYou\\'ve awakened\\r\\na jungle cat.\\r\\n\\r\\n530\\r\\n00:21:54,272 --> 00:21:56,191\\r\\nBradley\\'s on the prowl.\\r\\n\\r\\n531\\r\\n00:21:56,274 --> 00:21:57,609\\r\\nGrr!\\r\\n\\r\\n532\\r\\n00:21:58,305 --> 00:22:58,450\\r\\nPlease rate this subtitle at www.osdb.link/c7e2k\\r\\nHelp other users to choose the best subtitles\\r\\n'"
      ]
     },
     "execution_count": 55,
     "metadata": {},
     "output_type": "execute_result"
    }
   ],
   "source": [
    "df1['file_content'][71981]"
   ]
  },
  {
   "cell_type": "code",
   "execution_count": 56,
   "id": "f17b0300",
   "metadata": {},
   "outputs": [],
   "source": [
    "df1['name'] = df1['name'].str.replace('.', ' ')\n",
    "df1['name'] = df1['name'].str.replace('.eng.1cd', '')"
   ]
  },
  {
   "cell_type": "code",
   "execution_count": 61,
   "id": "c9b15f2d",
   "metadata": {},
   "outputs": [
    {
     "name": "stderr",
     "output_type": "stream",
     "text": [
      "100%|███████████████████████████████████████████████████████████████████████████| 24749/24749 [03:28<00:00, 118.42it/s]\n"
     ]
    }
   ],
   "source": [
    "import re\n",
    "from tqdm import tqdm\n",
    " \n",
    "def clean_text(text):\n",
    "    # Remove timestamps\n",
    "    clean_text = re.sub(r'\\d{2}:\\d{2}:\\d{2},\\d{3} --> \\d{2}:\\d{2}:\\d{2},\\d{3}', '', text)\n",
    "    # Remove HTML tags\n",
    "    clean_text = re.sub(r'<[^>]*>', '', clean_text)\n",
    "    # Remove special characters and symbols except spaces\n",
    "    clean_text = re.sub(r'[^a-zA-Z0-9\\s]', '', clean_text)\n",
    "    # Remove line numbers and extraneous meta text \n",
    "    clean_text = re.sub(r\"\\d+\\s*\", \"\", clean_text)  \n",
    "    # Remove newlines\n",
    "    clean_text = re.sub(r\"\\r\\n\", \" \", clean_text)\n",
    "    # Remove special characters (modify as needed)\n",
    "    clean_text = re.sub(r\"[^\\w\\s.,\\-']\", \"\", clean_text)  \n",
    "    clean_text = re.sub(r'\\s+', ' ', clean_text)\n",
    "    return clean_text.strip()\n",
    "\n",
    "# Apply the cleaning function to the 'text_content' column with tqdm progress bar\n",
    "tqdm.pandas()\n",
    "df1['file_content'] = df1['file_content'].progress_apply(clean_text)\n"
   ]
  },
  {
   "cell_type": "code",
   "execution_count": 67,
   "id": "5ea163d4",
   "metadata": {
    "scrolled": true
   },
   "outputs": [
    {
     "data": {
      "text/plain": [
       "'Morning honey Great day today honey Isnt it honey Yes Its very nice You know sugar Pims been awfully well behaved lately I think we should excuse her from her chores this week Really Well i great great In fact I think we should cancel her chores all month and get her some presents Clothes video games I dont know what the kids like today Adjustable bed with a remote control Well if you think thats best Lloyd I guess we could laughing Aha Oh Uh hey mom Whats up Pim I have warned you about using your instamorph to fool people Obviously those warnings havent had an effect Until now But this warning feels like a keeper Yep Lesson learned Just to be on the safe side give me pushups Excuse me You heard me I said drop and give me Now both Im gonna miss these moments groans Meet a boy named Phil And his family On vacation from the nd century Got a rented time machine And theyre on their way To a time way way way Back in the day So now its Phil Phil Phil of the future Keeping it together Just as best as he can Phil Phil Phil of the future Hes a nd century man nd century man On a holiday through history But the final destination Was a mystery But something On the time machine had blown So they ended up Right here in our time zone So now hes Phil Phil Phil of the future Never knew in history Just where he would land Phil Phil Phil of the future Hes a nd century man Phil Phil of the future Hes a nd century man Keely southern accent How can you sit by while the bank takes our farm We both been done been born here What can we do The drought killed our crops and our cows hair fell out What can we do We can fight We can save this here farm Or we can die trying And scene Keely youre holding back I need more emotion The bank is taking away your farm Theyre snatching it Snatching it And Phil You just sat there the whole time Use the whole stage Move around Get physical Likelike this I love it bell rings All right everyone Well see you next time when we begin work on our monologues Emotion emotion I knew that Hey Keely Nice scene Very You know Uh really Thanks Gee thanks Really I just kind of went Keel Take a breath Uh so You didnt think I was too unemotional No way I got the whole scene just from your eyes You know your eyes are the window to your soul Youve got stained glass eyes chuckles coughs clears throat Wow You really think so I do So I was wondering if maybe youd like to do your next scene with me Are you kidding Id love to scene a be in with you Uh Be in a scene with you Yes Yes Good stuff Well talk later I gotta jet squeals Stained glass eyes Who would fall for a line like that Tanner Kirkpatrick just talked to me I guess she would Are these seats taken Yup One moment sweet pea This is merely a handkerchief You deserve a velvet throne Bradley you are such a treasure Isnt he a treasure Pim I wish he was buried treasure Pim you and your zingers You know going steady is so much fun You really should find someone Bradley dont you have a friend for her No thanks Im not interested in anyone from Munchkinland What about Chauncey No Hes married to his flute But Emerson just got his braces off Oh yay You know individually you are a pain but together youre a bee sting in the eye Pim you and your zingers again Watch out carrot top Oh I forgot dessert Let me Your wish is my command Hurry back Ill miss you Ill miss you more I cant take this torture I gotta break this couple up Hmm Hmm Bing Nice Already missing you I thought hed never leave Pim whats the matter I just dont want you to get hurt Its Bradley What about Bradley I just dont know how to tell you this He told me hes warm for my form gasps He said this Maybe I was leading him on I blame myself Bad Pim Bad Here you go Sweets for my sweet Bradley Benjamin Farmer you you laughter Not bad And last year Tanner did the scene from get off my cloud I swear everybody in the audience was crying Wow it was that bad huh Im kidding But soft What light through yonder window breaks Hey Whats shakin Keely I think I found the perfect scene for us to do from a little play I like to call Romeo and Juliet Oh great What scene Uh Act scene The balcony cell phone rings Thats awesome So Which one of you is gonna play Juliet Excuse me Hello No I cant right now Well Im gonna see you tomorrow Of course Im looking forward to it See you then Thats Darcy Shes a little yearold girl from Bulgaria I tutor her in reading Oh Thats so sweet Just trying to give back a little Make the world more Tanner you are a great American Anyway Keel I was thinking we could get together later this afternoon and start running our lines Oh great How about cocoa palace at Beauteous Hey you need some paper Because theres a whole lot around if you want This works Keeping it simple All righty Well you go get em man Go make the world more Huh Grr Ayah Ayeyaya doorbell rings Anybody going to get that Rrrawr doorbell ringing Why doesnt Pim get it Again Hi Pim I hope Im not interrupting anything Not really but you are in my house and that feels kinda funky Well its just I have to talk to somebody about Bradley Oh right The old romance of the century went down the dumper today huh Well thats how it seems but Im not going to let that happen Im going to be more like you You said what now Look I understand why Bradley is drawn to you Youre wild and untamed and you appeal to the beast in him Theres a beast in Bradley What is it a chipmunk Look I want to be wild and untamed Pim and I want you to teach me Ok Let me hear you growl What Growl sister Grr Put your back into it Grr Grr Grr Rawr Rawr Grr Grr Rawr Rawr Grr Grr Phil whatd you get for question number one Uh xMe too So whatd you get for number Uh n is greater than y Me too So whatd you get for number You know Tia if you cheat youre only hurting yourself You didnt get a word of that Keely Hey guys Guys guys guys guess what happened Tanner put his arm around me girls scream Sorry The kid dont scream Ok girl dish Tell me everything Which arm left or right Left Shoulder or waist Waist both scream We finished running lines and were having some hot chocolate and he put his arm around me Hey did he get any ink on you What The guys arm is a giant notepad You know what girl I think you might have your first boyfriend I think I might both scream I got to go journal Go Journal like the wind Shes so cute Ill never forget my first boyfriend He was No I think it was before that Great story I just wish Tanner wasnt such a load Look whos jealous No Im not jealous I dont think Nope I just wish Tanner wasnt such a load Connor Kubeki He was my first boyfriend No That was in first grade So whatd you get for number They all want me to take a dive mckirk But I gotta win I gotta win I tell you so I can pay for my sisters operation So take your best shot End scene Phil good Youre moving around more Getting physical Getting physical Mercer you sir are money Excuse me Im looking for Tanner Kirkpatrick He couldnt do after school scene work today He had a dentists appointment Oh well if you see him could you tell him that Darcy stopped by Darcy Miss Darcy rest assured that Mr Kirkpatrick will receive this missive Ok Tell me did Darcy strike you as an yearold Bulgarian girl who cant read Ill teach her how to read Know what Im saying No What are you saying I dont know Keep working on it Now acting is really lying And also its telling the truth Watch any video online with OpenSUBTITLES Free Browser extension osdblinkext Hey Darcy Uh I heard you came by Tanner I asked my parents if you can come skiing next weekend and theyre thinking about it Isnt that great Tanner whats wrong in deep voice Oh thats better Whats wrong with your voice Um I must be getting a cold Ahem coughing Better get back inside to work on my scene Ok boo See ya Mmmmm You may be getting a cold but your kissing is better than ever Tanner Hmm Huh Youre kissing better than ever Tanner Tanner Oh no Keely Hey son whats up Ow Nothing Hey hey That wasnt a nothing nothing That was a something nothing Ive got kind of a problem with Keely Say youre sorry Act like you mean it Move on Ow I didnt do anything Its Keelys problem Then just stay out of it Ha ha Missed me Ow Keely really likes this guy at school and I found out hes timing her Howd you find that out I kissed his girlfriend Long story And you dont want Keely to get hurt Yeah Shes going to get hurt either way sweetie Might be better for her to hear it from you Uhuh uhuh No sir Sometimes you just got to stay out of other peoples business You dont have to tell her everything I dont tell your mom everything Oh and what havent you told me No ihe doesnt Ive told you telephone ringing Yes Theres the phone Ill get it Like I wont see him later Ok so if its that Pim Diffy attitude that Bradley Benjamin Farmer wants thats exactly what hes going to get Yay Yeah So Im a kid at school and I look at you funny What do you say Whatre you looking at No no Like this Whatre you looking at Whatre you looking at Whatre you looking at Whatre you looking at Hey girls I was gonna make a snack You want something Debbie tell him what you want With attitude What do you think I want I dont know Thats why I asked Popcorn You wish I wanted popcorn Is everything ok here Make with the popcorn Stretch Ill wait for a please Rrrawr I feel terrible Wait No I dont That was actually kinda fun Ill be in my office Keep practicing I cant wait to see what happens when Bradley gets a bellyful of you Oh hell get a bellyful all right Hell get such a bellyful hell look like a pregnant whale Oh so now Im fat is that it Youre a meanie Youre a mean kid bell rings Hey Keel can I talk to you a second Im kinda in a hurry Im on my way to rehearse with blue Blue Thats what I call Tanner Because of the ink on his arms No Because of his eyes He calls me glowworm because I light up his life Isnt he incredible Uh look I know you think so but What do you mean but Im saying maybe I dont know youre rushing things a bit I dont think I am Why cant you just be happy for me Keely listen to me Tanners not a good guy You just dont like him You never have And instead of supporting me like a real friend you just make snotty jokes about Tanner No You dont understand Oh I understand All you can do is tear Tanner down because he likes me and I like him Youre such an immature jerk you cant handle it Grow up Yo Farmer Hows your crops growing Whatre you looking at Deborah is that you Heh It aint the easter bunny Romeo doff thy name For thy name is no part of thee Take all myself I take thee at thy word Call me but love and Ill be new baptized Henceforth I will never be Darcy Hey boo Didnt mean to interrupt Can we take Mmhmm Hey Mom and Dad said you can come skiing next weekend Isnt that awesome Keely this is Romeo and Juliet girl Emotion Emotion I cant wait until next weekend Ahem Uh is this going to be weird for you Because I dont think we ever said we were exclusive or anything No No problem Its cool Ok Ahem So uh so where were we Oh right right Henceforth I will never be Romeo Doest thou love me I know thou wilt say aye and I will take thy word And if thou swearest thou Thou mayest prove false Thats the emotion Im looking for Sure you dropped a few words but it was progress Progress Thank you Hey You all right Got it Ill leave you alone How come youre not saying I told you so Why would I say that Because you were right Its not something I wanted to be right about I said all that horrible stuff to you What About being an immature jerk Oh no I get that all the time My sister says that Friends parents random people on the street Hey its the immature jerk What up How can you stand there and not be mad at me Because youre feeling lousy Friends are supposed to be there for each other when that happens Well I do feel pretty lousy Yeah I think lifes going to make us feel like that sometimes Probably a lot I think were pretty lucky Lucky Yeah We got each others backs We always will Always Well thats how Im planning my future Listen actor boy and listen good If you ever cheat on another girl if you ever lie to another girl then Im stuffing you in that locker and throwing away the key You hear me I said did you hear me Yes All right All right then I suggest you get out of my sight Ok Ok Ok Run you little weasel We did it Oh oh Hmm Thanks for letting me use the instamorph Any time Little weasel Not too bad Thanks I was kinda in the moment Pim how you doing Farmer Debbie told me how youve been teaching her to be more like you Me like it What She gave me the heaveho said Im too white bread for her now but I got to admit I like Debbie with some edge So go after her Why would I go after hamburger when Im looking at steak All right Wait a minute Am I the steak in this Filet mignon Bradley no way no how Not here not anywhere else Not now not ever I like a challenge What have I done Youve awakened a jungle cat Bradleys on the prowl Grr Please rate this subtitle at wwwosdblinkcek Help other users to choose the best subtitles'"
      ]
     },
     "execution_count": 67,
     "metadata": {},
     "output_type": "execute_result"
    }
   ],
   "source": [
    "df1['file_content'].iloc[0]"
   ]
  },
  {
   "cell_type": "code",
   "execution_count": 71,
   "id": "2266f020",
   "metadata": {},
   "outputs": [],
   "source": [
    "df1 = df1.drop('content',axis=1)"
   ]
  },
  {
   "cell_type": "code",
   "execution_count": 72,
   "id": "3bde4aef",
   "metadata": {},
   "outputs": [
    {
     "data": {
      "text/html": [
       "<div>\n",
       "<style scoped>\n",
       "    .dataframe tbody tr th:only-of-type {\n",
       "        vertical-align: middle;\n",
       "    }\n",
       "\n",
       "    .dataframe tbody tr th {\n",
       "        vertical-align: top;\n",
       "    }\n",
       "\n",
       "    .dataframe thead th {\n",
       "        text-align: right;\n",
       "    }\n",
       "</style>\n",
       "<table border=\"1\" class=\"dataframe\">\n",
       "  <thead>\n",
       "    <tr style=\"text-align: right;\">\n",
       "      <th></th>\n",
       "      <th>num</th>\n",
       "      <th>name</th>\n",
       "      <th>file_content</th>\n",
       "    </tr>\n",
       "  </thead>\n",
       "  <tbody>\n",
       "    <tr>\n",
       "      <th>71981</th>\n",
       "      <td>9477200</td>\n",
       "      <td>phil of the future s01 e01 your cheatin heart ...</td>\n",
       "      <td>Morning honey Great day today honey Isnt it ho...</td>\n",
       "    </tr>\n",
       "    <tr>\n",
       "      <th>5625</th>\n",
       "      <td>9205347</td>\n",
       "      <td>its always sunny in philadelphia s05 e05 the w...</td>\n",
       "      <td>I dont know What do you think Its kind of doin...</td>\n",
       "    </tr>\n",
       "    <tr>\n",
       "      <th>11321</th>\n",
       "      <td>9228451</td>\n",
       "      <td>ncis s07 e18 jurisdiction (2010) eng 1cd</td>\n",
       "      <td>sergeant counting cadence men repeating cadenc...</td>\n",
       "    </tr>\n",
       "    <tr>\n",
       "      <th>49223</th>\n",
       "      <td>9388219</td>\n",
       "      <td>24 s07 e20 day 7 300 a m 400 a m (2009) eng 1cd</td>\n",
       "      <td>Jack Bauer Previously on You want me to blow u...</td>\n",
       "    </tr>\n",
       "    <tr>\n",
       "      <th>53835</th>\n",
       "      <td>9407484</td>\n",
       "      <td>hot in cleveland s04 e01 that changes everythi...</td>\n",
       "      <td>Last season on Hot In Cleveland How bout it sw...</td>\n",
       "    </tr>\n",
       "  </tbody>\n",
       "</table>\n",
       "</div>"
      ],
      "text/plain": [
       "           num                                               name  \\\n",
       "71981  9477200  phil of the future s01 e01 your cheatin heart ...   \n",
       "5625   9205347  its always sunny in philadelphia s05 e05 the w...   \n",
       "11321  9228451           ncis s07 e18 jurisdiction (2010) eng 1cd   \n",
       "49223  9388219    24 s07 e20 day 7 300 a m 400 a m (2009) eng 1cd   \n",
       "53835  9407484  hot in cleveland s04 e01 that changes everythi...   \n",
       "\n",
       "                                            file_content  \n",
       "71981  Morning honey Great day today honey Isnt it ho...  \n",
       "5625   I dont know What do you think Its kind of doin...  \n",
       "11321  sergeant counting cadence men repeating cadenc...  \n",
       "49223  Jack Bauer Previously on You want me to blow u...  \n",
       "53835  Last season on Hot In Cleveland How bout it sw...  "
      ]
     },
     "execution_count": 72,
     "metadata": {},
     "output_type": "execute_result"
    }
   ],
   "source": [
    "df1.head()"
   ]
  },
  {
   "cell_type": "code",
   "execution_count": 73,
   "id": "f1a34657",
   "metadata": {},
   "outputs": [],
   "source": [
    "df1.to_csv('clean_eng_subtitles_csv.csv')"
   ]
  },
  {
   "cell_type": "code",
   "execution_count": 4,
   "id": "e38ca5ea",
   "metadata": {},
   "outputs": [],
   "source": [
    "df=pd.read_csv(r\"C:\\Users\\kalag\\DS_Intern_Inno\\Projects\\Search Engine\\clean_eng_subtitles_csv.csv\")"
   ]
  },
  {
   "cell_type": "code",
   "execution_count": 7,
   "id": "7f211f29",
   "metadata": {},
   "outputs": [],
   "source": [
    "df=df.drop('Unnamed: 0',axis=1)\n",
    "df['file_content'] = df['file_content'].str.lower()\n",
    "df['name'] = df['name'].str.lower()\n",
    "df['name'] = df['name'].str.replace('eng 1cd', '').str.strip()"
   ]
  },
  {
   "cell_type": "code",
   "execution_count": 12,
   "id": "f4fed889",
   "metadata": {},
   "outputs": [
    {
     "data": {
      "text/html": [
       "<div>\n",
       "<style scoped>\n",
       "    .dataframe tbody tr th:only-of-type {\n",
       "        vertical-align: middle;\n",
       "    }\n",
       "\n",
       "    .dataframe tbody tr th {\n",
       "        vertical-align: top;\n",
       "    }\n",
       "\n",
       "    .dataframe thead th {\n",
       "        text-align: right;\n",
       "    }\n",
       "</style>\n",
       "<table border=\"1\" class=\"dataframe\">\n",
       "  <thead>\n",
       "    <tr style=\"text-align: right;\">\n",
       "      <th></th>\n",
       "      <th>num</th>\n",
       "      <th>name</th>\n",
       "      <th>file_content</th>\n",
       "    </tr>\n",
       "  </thead>\n",
       "  <tbody>\n",
       "    <tr>\n",
       "      <th>0</th>\n",
       "      <td>9477200</td>\n",
       "      <td>phil of the future s01 e01 your cheatin heart ...</td>\n",
       "      <td>morning honey great day today honey isnt it ho...</td>\n",
       "    </tr>\n",
       "    <tr>\n",
       "      <th>1</th>\n",
       "      <td>9205347</td>\n",
       "      <td>its always sunny in philadelphia s05 e05 the w...</td>\n",
       "      <td>i dont know what do you think its kind of doin...</td>\n",
       "    </tr>\n",
       "    <tr>\n",
       "      <th>2</th>\n",
       "      <td>9228451</td>\n",
       "      <td>ncis s07 e18 jurisdiction (2010) eng 1cd</td>\n",
       "      <td>sergeant counting cadence men repeating cadenc...</td>\n",
       "    </tr>\n",
       "    <tr>\n",
       "      <th>3</th>\n",
       "      <td>9388219</td>\n",
       "      <td>24 s07 e20 day 7 300 a m 400 a m (2009) eng 1cd</td>\n",
       "      <td>jack bauer previously on you want me to blow u...</td>\n",
       "    </tr>\n",
       "    <tr>\n",
       "      <th>4</th>\n",
       "      <td>9407484</td>\n",
       "      <td>hot in cleveland s04 e01 that changes everythi...</td>\n",
       "      <td>last season on hot in cleveland how bout it sw...</td>\n",
       "    </tr>\n",
       "  </tbody>\n",
       "</table>\n",
       "</div>"
      ],
      "text/plain": [
       "       num                                               name  \\\n",
       "0  9477200  phil of the future s01 e01 your cheatin heart ...   \n",
       "1  9205347  its always sunny in philadelphia s05 e05 the w...   \n",
       "2  9228451           ncis s07 e18 jurisdiction (2010) eng 1cd   \n",
       "3  9388219    24 s07 e20 day 7 300 a m 400 a m (2009) eng 1cd   \n",
       "4  9407484  hot in cleveland s04 e01 that changes everythi...   \n",
       "\n",
       "                                        file_content  \n",
       "0  morning honey great day today honey isnt it ho...  \n",
       "1  i dont know what do you think its kind of doin...  \n",
       "2  sergeant counting cadence men repeating cadenc...  \n",
       "3  jack bauer previously on you want me to blow u...  \n",
       "4  last season on hot in cleveland how bout it sw...  "
      ]
     },
     "execution_count": 12,
     "metadata": {},
     "output_type": "execute_result"
    }
   ],
   "source": [
    "df.head()"
   ]
  },
  {
   "cell_type": "code",
   "execution_count": 13,
   "id": "cee36b3a",
   "metadata": {},
   "outputs": [
    {
     "name": "stdout",
     "output_type": "stream",
     "text": [
      "<class 'pandas.core.frame.DataFrame'>\n",
      "RangeIndex: 24749 entries, 0 to 24748\n",
      "Data columns (total 3 columns):\n",
      " #   Column        Non-Null Count  Dtype \n",
      "---  ------        --------------  ----- \n",
      " 0   num           24749 non-null  int64 \n",
      " 1   name          24749 non-null  object\n",
      " 2   file_content  24749 non-null  object\n",
      "dtypes: int64(1), object(2)\n",
      "memory usage: 580.2+ KB\n"
     ]
    }
   ],
   "source": [
    "df.info()"
   ]
  }
 ],
 "metadata": {
  "kernelspec": {
   "display_name": "Python 3 (ipykernel)",
   "language": "python",
   "name": "python3"
  },
  "language_info": {
   "codemirror_mode": {
    "name": "ipython",
    "version": 3
   },
   "file_extension": ".py",
   "mimetype": "text/x-python",
   "name": "python",
   "nbconvert_exporter": "python",
   "pygments_lexer": "ipython3",
   "version": "3.10.9"
  }
 },
 "nbformat": 4,
 "nbformat_minor": 5
}
